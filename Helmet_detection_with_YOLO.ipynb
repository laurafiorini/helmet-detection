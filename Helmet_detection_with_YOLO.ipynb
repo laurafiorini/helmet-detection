{
  "nbformat": 4,
  "nbformat_minor": 0,
  "metadata": {
    "colab": {
      "provenance": [],
      "gpuType": "T4",
      "include_colab_link": true
    },
    "kernelspec": {
      "name": "python3",
      "display_name": "Python 3"
    },
    "language_info": {
      "name": "python"
    },
    "accelerator": "GPU"
  },
  "cells": [
    {
      "cell_type": "markdown",
      "metadata": {
        "id": "view-in-github",
        "colab_type": "text"
      },
      "source": [
        "<a href=\"https://colab.research.google.com/github/laurafiorini/helmet-detection/blob/main/Helmet_detection_with_YOLO.ipynb\" target=\"_parent\"><img src=\"https://colab.research.google.com/assets/colab-badge.svg\" alt=\"Open In Colab\"/></a>"
      ]
    },
    {
      "cell_type": "markdown",
      "source": [
        "# Usando YOLO para detectar o uso de capacetes por motociclistas\n",
        "\n",
        "Este notebook tem o objetivo de treinar o modelo YOLO (versões YOLOv5 e YOLOv10) para a tarefa de detecção de capacetes, a partir de imagens de motociclistas e ciclistas, em sua maioria."
      ],
      "metadata": {
        "id": "cAdN4yVKGsBl"
      }
    },
    {
      "cell_type": "markdown",
      "source": [
        "## Instalações e configurações iniciais"
      ],
      "metadata": {
        "id": "Us7qBT4bdrzL"
      }
    },
    {
      "cell_type": "code",
      "source": [
        "# Define home directory\n",
        "import os\n",
        "HOME_DIR = \"/content\" # os.getcwd()\n",
        "print(HOME_DIR)"
      ],
      "metadata": {
        "id": "ia3p9Sc7frIk",
        "colab": {
          "base_uri": "https://localhost:8080/"
        },
        "outputId": "1ecbabe6-87ad-4398-9d25-6fefc17e2575"
      },
      "execution_count": null,
      "outputs": [
        {
          "output_type": "stream",
          "name": "stdout",
          "text": [
            "/content\n"
          ]
        }
      ]
    },
    {
      "cell_type": "code",
      "source": [
        "!pip install ultralytics --quiet"
      ],
      "metadata": {
        "id": "PqJ2Ge_TdLIY"
      },
      "execution_count": null,
      "outputs": []
    },
    {
      "cell_type": "code",
      "source": [
        "# Import necessary modules and libs\n",
        "from glob import glob\n",
        "from collections import Counter\n",
        "import cv2\n",
        "import yaml\n",
        "import random\n",
        "import shutil\n",
        "import matplotlib.pyplot as plt\n",
        "import xml.etree.ElementTree as ET\n",
        "from ultralytics import YOLO"
      ],
      "metadata": {
        "id": "-r5J-2WwQMoF"
      },
      "execution_count": null,
      "outputs": []
    },
    {
      "cell_type": "code",
      "source": [
        "logging = False"
      ],
      "metadata": {
        "id": "YM5Gw5vFT7Rj"
      },
      "execution_count": null,
      "outputs": []
    },
    {
      "cell_type": "markdown",
      "source": [
        "*🚧 ATENÇÃO: Descomente a célula abaixo se quiser registrar os experimentos no Dagshub/MLflow*"
      ],
      "metadata": {
        "id": "YjdD6mKMUGRG"
      }
    },
    {
      "cell_type": "code",
      "source": [
        "# # Install and import dagshub and mlflow for experiment logging\n",
        "\n",
        "# !pip install dagshub --quiet\n",
        "# !pip install mlflow --quiet\n",
        "\n",
        "# import dagshub\n",
        "# import mlflow\n",
        "\n",
        "# logging = True"
      ],
      "metadata": {
        "id": "U-SPmWeFT9zI"
      },
      "execution_count": null,
      "outputs": []
    },
    {
      "cell_type": "markdown",
      "source": [
        "## Importando os datasets estudados do Kaggle"
      ],
      "metadata": {
        "id": "Kr5pl0QoJF_N"
      }
    },
    {
      "cell_type": "markdown",
      "source": [
        "*🚧 ATENÇÃO: Para rodar a próxima célula é necessário possuir uma conta no [Kaggle](https://www.kaggle.com/).*"
      ],
      "metadata": {
        "id": "8giYGhewGLdz"
      }
    },
    {
      "cell_type": "code",
      "execution_count": null,
      "metadata": {
        "colab": {
          "base_uri": "https://localhost:8080/"
        },
        "id": "ZRAYyY4wT_ov",
        "outputId": "f87b9e4e-99e8-49f7-edbf-f9eb06ba1398",
        "collapsed": true
      },
      "outputs": [
        {
          "output_type": "stream",
          "name": "stdout",
          "text": [
            "Skipping, found downloaded files in \"./rider-with-helmet-without-helmet-number-plate\" (use force=True to force download)\n",
            "Skipping, found downloaded files in \"./helmet-detection\" (use force=True to force download)\n"
          ]
        }
      ],
      "source": [
        "!pip install opendatasets --quiet\n",
        "\n",
        "import opendatasets as od\n",
        "\n",
        "# Download both datasets\n",
        "od.download(\"https://www.kaggle.com/datasets/aneesarom/rider-with-helmet-without-helmet-number-plate/\")\n",
        "od.download(\"https://www.kaggle.com/datasets/andrewmvd/helmet-detection/\")"
      ]
    },
    {
      "cell_type": "markdown",
      "source": [
        "## Montando o Google Drive\n",
        "\n",
        "Isso é especialmente necessário para importar as labels criadas manualmente do dataset 2 (*helmet-detection*) e importadas para o Google Drive."
      ],
      "metadata": {
        "id": "kCdCa1gUJWps"
      }
    },
    {
      "cell_type": "code",
      "source": [
        "from google.colab import drive\n",
        "\n",
        "# Mount drive\n",
        "drive.mount(os.path.join(HOME_DIR, 'gdrive'), force_remount=False)"
      ],
      "metadata": {
        "colab": {
          "base_uri": "https://localhost:8080/"
        },
        "id": "GdW9_EmYX1dz",
        "outputId": "12e2fb95-4705-4fa7-98b7-a112d08be7e0"
      },
      "execution_count": null,
      "outputs": [
        {
          "output_type": "stream",
          "name": "stdout",
          "text": [
            "Mounted at /content/gdrive\n"
          ]
        }
      ]
    },
    {
      "cell_type": "markdown",
      "source": [
        "## Organizando os datasets"
      ],
      "metadata": {
        "id": "MIk74sPnc8C5"
      }
    },
    {
      "cell_type": "markdown",
      "source": [
        "### Dataset 1 (*rider-with-helmet-without-helmet-number-plate*)\n",
        "\n",
        "Usado como dataset principal por já ser tratado, de acordo com o formato usado pelo Yolo, e por já ter os dados devidamente divididos como o necessário para o desenvolvimento do projeto.\n",
        "\n",
        "É usado principalmente para entender das classes/categorias utilizadas no trabalho, além de auxiliar no desenvolvimento do arquivo .yaml utilizado pelo Yolo mais adiante.\n",
        "\n",
        "Apesar disso, é um dataset com poucas imagens para realizar testes, treinamentos e validações, e por isso, usa-se mais um."
      ],
      "metadata": {
        "id": "UHwvGTZ_JuT2"
      }
    },
    {
      "cell_type": "code",
      "source": [
        "### DATASET 1 ###\n",
        "\n",
        "# Define main dataset 1 path\n",
        "dataset1_path = \"/content/rider-with-helmet-without-helmet-number-plate\"\n",
        "\n",
        "# Map classes to their index in the classes.txt file\n",
        "def get_class_map():\n",
        "  with open(f\"{dataset1_path}/classes.txt\", 'r') as file:\n",
        "    data = file.read().strip().split('\\n')\n",
        "\n",
        "    class_map = { }\n",
        "    for i in range(len(data)):\n",
        "      class_map[i] = data[i]\n",
        "\n",
        "    return class_map\n",
        "\n",
        "class_map = get_class_map()"
      ],
      "metadata": {
        "id": "s24EcoZsghcB"
      },
      "execution_count": null,
      "outputs": []
    },
    {
      "cell_type": "markdown",
      "source": [
        "Cria o arquivo .yaml necessário para o funcionamento do Yolo."
      ],
      "metadata": {
        "id": "I5uHiip7bo3G"
      }
    },
    {
      "cell_type": "code",
      "source": [
        "print(\"Reading yaml file from dataset 1...\")\n",
        "\n",
        "# Read yaml file contents from dataset1\n",
        "dataset1_yaml_path = f\"{dataset1_path}/coco128.yaml\"\n",
        "with open(dataset1_yaml_path, 'r') as file:\n",
        "  print(file.read())\n",
        "\n",
        "# Set a new yaml file for the merged datasets\n",
        "new_dataset1_yaml_path = os.path.join(dataset1_path, 'data.yaml')\n",
        "yaml_content = f\"\"\"\n",
        "train: {dataset1_path}/train/images\n",
        "val: {dataset1_path}/val/images\n",
        "\n",
        "nc: 4\n",
        "names: ['with helmet', 'without helmet', 'rider', 'number plate']\n",
        "\"\"\"\n",
        "\n",
        "# Write the dataset configuration to a yaml file\n",
        "with open(new_dataset1_yaml_path, 'w') as yaml_file:\n",
        "    yaml_file.write(yaml_content)\n",
        "\n",
        "print(f\"\\nNew yaml file for merged datasets was written successfully at location {new_dataset1_yaml_path}\")"
      ],
      "metadata": {
        "colab": {
          "base_uri": "https://localhost:8080/"
        },
        "outputId": "75d077a0-016f-4b7f-d6a9-e9cf44425838",
        "id": "DyTGnMrfbo3p"
      },
      "execution_count": null,
      "outputs": [
        {
          "output_type": "stream",
          "name": "stdout",
          "text": [
            "Reading yaml file from dataset 1...\n",
            "train: /train/images\n",
            "val: /val/images\n",
            "\n",
            "nc: 4\n",
            "\n",
            "names: [\"with helmet\", \"without helmet\", \"rider\", \"number plate\"]\n",
            "\n",
            "New yaml file for merged datasets was written successfully at location /content/rider-with-helmet-without-helmet-number-plate/data.yaml\n"
          ]
        }
      ]
    },
    {
      "cell_type": "markdown",
      "source": [
        "### Dataset 2 (*helmet-detection*)\n",
        "\n",
        "É um dataset com mais imagens que o dataset 1, apesar de abordar também diversas imagens de bicicletas, ao invés de apenas motocicletas, por exemplo. Apesar disso, ainda se faz útil nesse sentido, fornecendo imagens necessárias para um melhor treinamento da rede.\n",
        "\n",
        "As *labels* desse dataset foram criadas de duas formas. Primeiramente, elas foram diretamente convertidas de .xml para .txt (formato do Yolo) por meio de funções de Python.\n",
        "\n",
        "Após isso, visto que elas estavam classificadas em somente duas das quatro classes desejadas de se estudar, elas foram manualmente \"etiquetadas\" por meio de softwares terceiros, a fim de classificar de forma melhor e estender para as quatro classes existentes no projeto.\n",
        "\n",
        "As *labels* foram então geradas em arquivos .txt e upadas no Drive, para poderem ser utilizadas neste Google Colab.\n",
        "\n",
        "\n",
        "*🚧 ATENÇÃO: Para rodar esta célula, adicione um atalho para a pasta [labels_dataset_2](https://drive.google.com/drive/folders/1nDzYN4L1-OSq8a0nGyiQrVNXArhlonne?usp=sharing) no \"Meu Drive\", o diretório principal do seu Google Drive.*"
      ],
      "metadata": {
        "id": "IN45uAJyKALi"
      }
    },
    {
      "cell_type": "code",
      "source": [
        "### DATASET 2 ###\n",
        "# Only run when you have the files on your local drive\n",
        "\n",
        "def get_labels_from_drive(drive_path):\n",
        "  return [img for img in os.listdir(drive_path)]\n",
        "\n",
        "txt_labels = get_labels_from_drive(os.path.join(HOME_DIR, '/content/gdrive/MyDrive/labels_dataset_2'))"
      ],
      "metadata": {
        "id": "a2Uu7NnYY9PN"
      },
      "execution_count": null,
      "outputs": []
    },
    {
      "cell_type": "markdown",
      "source": [
        "Conversões diretas de .xml para .txt a seguir."
      ],
      "metadata": {
        "id": "rFh_7RsiMajY"
      }
    },
    {
      "cell_type": "code",
      "source": [
        "### DATASET 2 ###\n",
        "\n",
        "dataset2_path = \"/content/helmet-detection\"\n",
        "\n",
        "# Parse and get the basic image information from the specified annotation xml file\n",
        "def parse_xml_file(xml_file):\n",
        "  # Parse specified XML file\n",
        "  xml = ET.parse(xml_file)\n",
        "  root = xml.getroot()\n",
        "\n",
        "  # Get basic image information from xml file\n",
        "  image_name = root.find('filename').text\n",
        "  image_width = int(root.find('size/width').text)\n",
        "  image_height = int(root.find('size/height').text)\n",
        "  image_depth = int(root.find('size/depth').text)\n",
        "  image_shape = image_width, image_height, image_depth\n",
        "\n",
        "  labels_and_bboxes = []\n",
        "\n",
        "  # Loop through each object in the XML\n",
        "  for obj in root.findall('object'):\n",
        "      # Extract label and bounding box coordinates for each object\n",
        "      label = obj.find('name').text.lower()\n",
        "      xmin = int(obj.find('bndbox/xmin').text)\n",
        "      ymin = int(obj.find('bndbox/ymin').text)\n",
        "      xmax = int(obj.find('bndbox/xmax').text)\n",
        "      ymax = int(obj.find('bndbox/ymax').text)\n",
        "\n",
        "      # Append label and bounding box to the list\n",
        "      labels_and_bboxes.append((label, (xmin, ymin, xmax, ymax)))\n",
        "\n",
        "  return image_name, image_shape, labels_and_bboxes\n",
        "\n",
        "# Convert bounding box values from .xml files to YOLO standards\n",
        "def convert_bbox_to_yolo(image_shape, bbox):\n",
        "  # bbox coordinates are defined as:\n",
        "  # bbox[0] = xmin, bbox[1] = ymin, bbox[2] = xmax, bbox[3] = ymax\n",
        "\n",
        "  # image_shape is defined as:\n",
        "  # image_shape[0] = width, image_shape[1] = height, image_shape[2] = depth\n",
        "\n",
        "  # Compute bounding box center, width and height from bbox coordinates\n",
        "  x_center = (bbox[0] + bbox[2]) / 2\n",
        "  y_center = (bbox[1] + bbox[3]) / 2\n",
        "  width = bbox[2] - bbox[0]\n",
        "  height = bbox[3] - bbox[1]\n",
        "\n",
        "  # Normalize all values between 0 and 1\n",
        "  x_center /= image_shape[0]\n",
        "  y_center /= image_shape[1]\n",
        "  width /= image_shape[0]\n",
        "  height /= image_shape[1]\n",
        "\n",
        "  return x_center, y_center, width, height"
      ],
      "metadata": {
        "id": "5vv-KYZhorim"
      },
      "execution_count": null,
      "outputs": []
    },
    {
      "cell_type": "code",
      "source": [
        "# Convert labels from .xml to .txt file\n",
        "def xml_to_txt_label(annotations_dir, labels_dir):\n",
        "  # Create labels folder\n",
        "  os.makedirs(labels_dir, exist_ok=True)\n",
        "\n",
        "  # Gather all annotation xml files and append to a list\n",
        "  annotations = [ ]\n",
        "  for file in os.listdir(annotations_dir):\n",
        "    if file.lower().endswith('.xml'):\n",
        "      annotations.append(file)\n",
        "\n",
        "  valid_counter = 0\n",
        "  corrupted_counter = 0\n",
        "\n",
        "  for xml_file in annotations:\n",
        "    file_corrupt = False\n",
        "\n",
        "    # Browse through annotation xml files and extract the class and bounding box coordinates\n",
        "    image_name, image_shape, labels_and_bboxes = parse_xml_file(os.path.join(annotations_dir, xml_file))\n",
        "\n",
        "    png_file = os.path.join(f\"{dataset2_path}/images\", image_name)\n",
        "    txt_file = os.path.join(labels_dir, xml_file.replace('.xml', '.txt'))\n",
        "\n",
        "    with open(txt_file, 'w') as label_file:\n",
        "      # Check whether there is any information for the image\n",
        "      if not labels_and_bboxes:\n",
        "        file_corrupt = True\n",
        "\n",
        "      for label, bbox in labels_and_bboxes:\n",
        "        # Map label to a number that matches the other dataset\n",
        "        if label == 'with helmet':\n",
        "          label = 0\n",
        "        else:\n",
        "          label = 1\n",
        "\n",
        "        x_center, y_center, width, height = convert_bbox_to_yolo(image_shape, bbox)\n",
        "\n",
        "        # Check if values are within the range 0 and 1\n",
        "        if x_center > 1 or y_center > 1 or width > 1 or height > 1:\n",
        "            file_corrupt = True\n",
        "            break\n",
        "\n",
        "        # Write data to .txt file as YOLO standards\n",
        "        label_file.write(f\"{label} {x_center} {y_center} {width} {height}\\n\")\n",
        "\n",
        "    # Delete corrupted files\n",
        "    if file_corrupt:\n",
        "        corrupted_counter += 1\n",
        "\n",
        "        label_file.close()\n",
        "        os.remove(txt_file)\n",
        "\n",
        "        continue\n",
        "\n",
        "    valid_counter += 1\n",
        "    # print(f\"\\rCreating label for {image_name}\", end='', flush=True)\n",
        "\n",
        "  print(f\"\\n> {valid_counter} labels successfully created! | {corrupted_counter} images ignored!\")\n",
        "\n",
        "xml_to_txt_label(f\"{dataset2_path}/annotations\", f\"{dataset2_path}/labels\")"
      ],
      "metadata": {
        "colab": {
          "base_uri": "https://localhost:8080/"
        },
        "id": "FYO9tF2T7hVc",
        "outputId": "20a23bde-38e3-4eff-bedc-8bb95ebe84d9"
      },
      "execution_count": null,
      "outputs": [
        {
          "output_type": "stream",
          "name": "stdout",
          "text": [
            "\n",
            "> 746 labels successfully created! | 18 images ignored!\n"
          ]
        }
      ]
    },
    {
      "cell_type": "markdown",
      "source": [
        "Como nem todas as imagens foram úteis o suficiente para a geração de *labels* manuais (imagens repetidas na maior parte das vezes), estas foram devidamente filtradas do dataset."
      ],
      "metadata": {
        "id": "C2Z2kgWcMjJx"
      }
    },
    {
      "cell_type": "code",
      "source": [
        "# Only run when you have the files on your local drive\n",
        "drive_label_path = os.path.join(HOME_DIR, '/content/drive/MyDrive/UFSC/12 fase/Visão Computacional/Datasets/labels_dataset_2')\n",
        "\n",
        "# Return only images that contains an existing label.txt\n",
        "def clean_dataset_based_on_labels(images_dir, labels_dir):\n",
        "  labels = get_labels_from_drive(labels_dir)\n",
        "  labels = [label[:-4] for label in labels]\n",
        "\n",
        "  result = [ ]\n",
        "  for image in os.listdir(images_dir):\n",
        "    if (image[:-4] in labels):\n",
        "      result.append(image)\n",
        "\n",
        "  print(\"Full dataset:\", len(os.listdir(images_dir)))\n",
        "  print(\"Cleaned dataset:\", len(result))\n",
        "\n",
        "clean_dataset_based_on_labels(f\"{dataset2_path}/images\", drive_label_path)"
      ],
      "metadata": {
        "colab": {
          "base_uri": "https://localhost:8080/"
        },
        "id": "esmGGHSpaWD6",
        "outputId": "5eac1d39-8bc0-4725-9013-4cf263c17a1d"
      },
      "execution_count": null,
      "outputs": [
        {
          "output_type": "stream",
          "name": "stdout",
          "text": [
            "Full dataset: 764\n",
            "Cleaned dataset: 627\n"
          ]
        }
      ]
    },
    {
      "cell_type": "markdown",
      "source": [
        "#### Separação do dataset 2 em *train*, *val* e *test*\n",
        "\n",
        "Como este dataset é maior que o primeiro, as imagens são separadas em imagens de treino, validação e teste, seguindo a proporção de 70%, 20% e 10%, respectivamente."
      ],
      "metadata": {
        "id": "N_wlEkNPNEgc"
      }
    },
    {
      "cell_type": "code",
      "source": [
        "train_image_dir = os.path.join(dataset2_path, \"train\", \"images\")\n",
        "train_labels_dir = os.path.join(dataset2_path, \"train\", \"labels\")\n",
        "\n",
        "val_image_dir = os.path.join(dataset2_path, \"val\", \"images\")\n",
        "val_labels_dir = os.path.join(dataset2_path, \"val\", \"labels\")\n",
        "\n",
        "test_image_dir = os.path.join(dataset2_path, \"test\", \"images\")\n",
        "test_labels_dir = os.path.join(dataset2_path, \"test\", \"labels\")\n",
        "\n",
        "# Split images between train (80%) and val (20%)\n",
        "def split_train_and_val(images_dir, labels_dir):\n",
        "  # Make sure target directory exists\n",
        "  for dir in [train_image_dir, val_image_dir, train_labels_dir, val_labels_dir, test_image_dir, test_labels_dir]:\n",
        "    os.makedirs(dir, exist_ok=True)\n",
        "\n",
        "  # Copy images randomly to train and val folders using 80/20 split\n",
        "  images = [img[:-4] for img in os.listdir(images_dir)]\n",
        "  random.shuffle(images)\n",
        "  split_1 = int(0.7 * len(images))\n",
        "  split_2 = int(0.9 * len(images))\n",
        "\n",
        "  count_total = len(images)\n",
        "  count_train = 0\n",
        "  count_val = 0\n",
        "  count_test = 0\n",
        "  count_ignored = 0\n",
        "\n",
        "  for i in range(len(images)):\n",
        "    # Check if label exists and ignore corrupted ones\n",
        "    if not os.path.exists(os.path.join(labels_dir, f\"{images[i]}.txt\")):\n",
        "        count_ignored += 1\n",
        "        count_total -= 1\n",
        "        continue\n",
        "\n",
        "    if i < split_1:\n",
        "        shutil.copy(os.path.join(images_dir, f\"{images[i]}.png\"), train_image_dir)\n",
        "        shutil.copy(os.path.join(labels_dir, f\"{images[i]}.txt\"), train_labels_dir)\n",
        "        count_train += 1\n",
        "    elif i < split_2:\n",
        "        shutil.copy(os.path.join(images_dir, f\"{images[i]}.png\"), val_image_dir)\n",
        "        shutil.copy(os.path.join(labels_dir, f\"{images[i]}.txt\"), val_labels_dir)\n",
        "        count_val += 1\n",
        "    else:\n",
        "        shutil.copy(os.path.join(images_dir, f\"{images[i]}.png\"), test_image_dir)\n",
        "        shutil.copy(os.path.join(labels_dir, f\"{images[i]}.txt\"), test_labels_dir)\n",
        "        count_test += 1\n",
        "\n",
        "    count_total -= 1\n",
        "\n",
        "    print(f\"\\rTotal images: {count_total} >> Train: {count_train} | Val: {count_val} | Test: {count_test} | Ignored: {count_ignored}\", end='', flush=True)\n",
        "\n",
        "# split_train_and_val(f\"{dataset2_path}/images\", f\"{dataset2_path}/labels\")\n",
        "split_train_and_val(f\"{dataset2_path}/images\", drive_label_path)"
      ],
      "metadata": {
        "colab": {
          "base_uri": "https://localhost:8080/"
        },
        "id": "ODg5m4fI0Vez",
        "outputId": "b1aa8391-e2c3-4604-86a0-abbb36033263"
      },
      "execution_count": null,
      "outputs": [
        {
          "output_type": "stream",
          "name": "stdout",
          "text": [
            "Total images: 0 >> Train: 434 | Val: 123 | Test: 70 | Ignored: 137"
          ]
        }
      ]
    },
    {
      "cell_type": "markdown",
      "source": [
        "#### *Merge* dos dois datasets\n",
        "\n",
        "A fim de trabalhar com os dois datasets em conjunto, coloca-se ambos juntos em uma pasta de *merged-datasets*, já que agora eles já possuem a mesma estrutura de arquivos, classes e classificações."
      ],
      "metadata": {
        "id": "D9eawrwRNeNX"
      }
    },
    {
      "cell_type": "code",
      "source": [
        "merged_train_image_dir = os.path.join(f\"{HOME_DIR}/merged-datasets\", \"train\", \"images\")\n",
        "merged_train_label_dir = os.path.join(f\"{HOME_DIR}/merged-datasets\", \"train\", \"labels\")\n",
        "\n",
        "merged_val_image_dir = os.path.join(f\"{HOME_DIR}/merged-datasets\", \"val\", \"images\")\n",
        "merged_val_label_dir = os.path.join(f\"{HOME_DIR}/merged-datasets\", \"val\", \"labels\")\n",
        "\n",
        "merged_test_image_dir = os.path.join(f\"{HOME_DIR}/merged-datasets\", \"test\", \"images\")\n",
        "merged_test_label_dir = os.path.join(f\"{HOME_DIR}/merged-datasets\", \"test\", \"labels\")\n",
        "\n",
        "# Copy files from the source path to a destination path\n",
        "def copy_data(source_path, destination_path):\n",
        "  for data in os.listdir(source_path):\n",
        "    shutil.copy(os.path.join(source_path, data), destination_path)\n",
        "\n",
        "# Merge both used datasets together\n",
        "def merge_datasets():\n",
        "  # Make sure target directory exists\n",
        "  for dir in [merged_train_image_dir, merged_train_label_dir,\n",
        "              merged_val_image_dir, merged_val_label_dir,\n",
        "              merged_test_image_dir, merged_test_label_dir]:\n",
        "    os.makedirs(dir, exist_ok=True)\n",
        "\n",
        "  # Copy data to the corresponding folder\n",
        "  for dataset in [dataset1_path, dataset2_path]:\n",
        "    copy_data(os.path.join(dataset, \"train/images\"), merged_train_image_dir)\n",
        "    copy_data(os.path.join(dataset, \"train/labels\"), merged_train_label_dir)\n",
        "    copy_data(os.path.join(dataset, \"val/images\"), merged_val_image_dir)\n",
        "    copy_data(os.path.join(dataset, \"val/labels\"), merged_val_label_dir)\n",
        "\n",
        "    copy_data(os.path.join(dataset2_path, \"test/images\"), merged_test_image_dir)\n",
        "    copy_data(os.path.join(dataset2_path, \"test/labels\"), merged_test_label_dir)\n",
        "\n",
        "merge_datasets()"
      ],
      "metadata": {
        "id": "8o_XgefJGBy5"
      },
      "execution_count": null,
      "outputs": []
    },
    {
      "cell_type": "markdown",
      "source": [
        "Cria o arquivo .yaml necessário para o funcionamento do Yolo."
      ],
      "metadata": {
        "id": "6M6Kq8BWOTjH"
      }
    },
    {
      "cell_type": "code",
      "source": [
        "merged_datasets_path = f\"{HOME_DIR}/merged-datasets\"\n",
        "\n",
        "print(\"Reading yaml file from dataset 1...\")\n",
        "\n",
        "# Read yaml file contents from dataset1\n",
        "dataset1_yaml_path = f\"{dataset1_path}/coco128.yaml\"\n",
        "with open(dataset1_yaml_path, 'r') as file:\n",
        "  print(file.read())\n",
        "\n",
        "# Set a new yaml file for the merged datasets\n",
        "merged_yaml_path = os.path.join(merged_datasets_path, 'data.yaml')\n",
        "yaml_content = \"\"\"\n",
        "train: /content/merged-datasets/train/images\n",
        "val: /content/merged-datasets/val/images\n",
        "\n",
        "nc: 4\n",
        "names: ['with helmet', 'without helmet', 'rider', 'number plate']\n",
        "\"\"\"\n",
        "\n",
        "# Write the dataset configuration to a yaml file\n",
        "with open(merged_yaml_path, 'w') as yaml_file:\n",
        "    yaml_file.write(yaml_content)\n",
        "\n",
        "print(f\"\\nNew yaml file for merged datasets was written successfully at location {merged_yaml_path}\")"
      ],
      "metadata": {
        "colab": {
          "base_uri": "https://localhost:8080/"
        },
        "id": "PDXUAPuXPwXu",
        "outputId": "b5c6076a-4a2f-4632-dce9-41098e0bc60a"
      },
      "execution_count": null,
      "outputs": [
        {
          "output_type": "stream",
          "name": "stdout",
          "text": [
            "Reading yaml file from dataset 1...\n",
            "train: /train/images\n",
            "val: /val/images\n",
            "\n",
            "nc: 4\n",
            "\n",
            "names: [\"with helmet\", \"without helmet\", \"rider\", \"number plate\"]\n",
            "\n",
            "New yaml file for merged datasets was written successfully at location /content/merged-datasets/data.yaml\n"
          ]
        }
      ]
    },
    {
      "cell_type": "markdown",
      "source": [
        "Cria outro arquivo .yaml usando o dataset de teste para obter as métricas de inferência do modelo."
      ],
      "metadata": {
        "id": "OpaJw9lTSrcp"
      }
    },
    {
      "cell_type": "code",
      "source": [
        "# Set a new yaml file for the test file\n",
        "test_merged_yaml_path = os.path.join(merged_datasets_path, 'test_data.yaml')\n",
        "test_merged_yaml_content = \"\"\"\n",
        "train: /content/merged-datasets/train/images\n",
        "val: /content/merged-datasets/test/images\n",
        "\n",
        "nc: 4\n",
        "names: ['with helmet', 'without helmet', 'rider', 'number plate']\n",
        "\"\"\"\n",
        "\n",
        "# Write the dataset configuration to a yaml file\n",
        "with open(test_merged_yaml_path, 'w') as yaml_file:\n",
        "    yaml_file.write(test_merged_yaml_content)\n",
        "\n",
        "print(f\"\\nNew yaml file for test datasets was written successfully at location {test_merged_yaml_path}\")"
      ],
      "metadata": {
        "colab": {
          "base_uri": "https://localhost:8080/"
        },
        "id": "kHBiB-_dSqd0",
        "outputId": "612f00b4-c148-473d-fd28-8b21d25ab876"
      },
      "execution_count": null,
      "outputs": [
        {
          "output_type": "stream",
          "name": "stdout",
          "text": [
            "\n",
            "New yaml file for test datasets was written successfully at location /content/merged-datasets/test_data.yaml\n"
          ]
        }
      ]
    },
    {
      "cell_type": "code",
      "source": [
        "# Count the amount of instances per class for the specified label path\n",
        "def count_class_instances(labels_path):\n",
        "  class_counter = Counter()\n",
        "  labels_path = f\"{labels_path}/*.txt\"\n",
        "\n",
        "  for label_file in glob(labels_path):\n",
        "    with open(label_file, \"r\") as file:\n",
        "      data = file.read().strip().split('\\n')\n",
        "\n",
        "      for instance in data:\n",
        "        class_counter[int(instance.split()[0])] += 1\n",
        "\n",
        "  class_counter = dict(sorted(class_counter.items()))\n",
        "  return class_counter\n",
        "\n",
        "# Format and print the amount of instances per class for the specified folder\n",
        "def print_class_counter(path, folder_name):\n",
        "  labels_path = f\"{path}/{folder_name}/labels\"\n",
        "  data_size = len(glob(f\"{labels_path}/*.txt\"))\n",
        "\n",
        "  print(f\"{int(data_size)} images found for '{path}/{folder_name}' folder.\")\n",
        "  print(f\"Count per class: \")\n",
        "\n",
        "  class_counter = count_class_instances(labels_path)\n",
        "\n",
        "  for key, value in class_counter.items():\n",
        "    print(f\"{key} -> {class_map[key]}: {value}\")\n",
        "\n",
        "  print()\n",
        "\n",
        "# Print counters for 'train' and 'val' folders\n",
        "print_class_counter(dataset1_path, \"train\")\n",
        "print_class_counter(dataset1_path, \"val\")\n",
        "\n",
        "print_class_counter(dataset2_path, \"train\")\n",
        "print_class_counter(dataset2_path, \"val\")\n",
        "\n",
        "print_class_counter(merged_datasets_path, \"train\")\n",
        "print_class_counter(merged_datasets_path, \"val\")"
      ],
      "metadata": {
        "colab": {
          "base_uri": "https://localhost:8080/"
        },
        "id": "LN9vS9vsSSrT",
        "outputId": "524498bf-f04a-4581-9bcd-57af295dc86b"
      },
      "execution_count": null,
      "outputs": [
        {
          "output_type": "stream",
          "name": "stdout",
          "text": [
            "104 images found for '/content/rider-with-helmet-without-helmet-number-plate/train' folder.\n",
            "Count per class: \n",
            "0 -> with helmet: 64\n",
            "1 -> without helmet: 93\n",
            "2 -> rider: 120\n",
            "3 -> number plate: 116\n",
            "\n",
            "20 images found for '/content/rider-with-helmet-without-helmet-number-plate/val' folder.\n",
            "Count per class: \n",
            "0 -> with helmet: 13\n",
            "1 -> without helmet: 15\n",
            "2 -> rider: 23\n",
            "3 -> number plate: 22\n",
            "\n",
            "570 images found for '/content/helmet-detection/train' folder.\n",
            "Count per class: \n",
            "0 -> with helmet: 870\n",
            "1 -> without helmet: 727\n",
            "2 -> rider: 989\n",
            "3 -> number plate: 179\n",
            "\n",
            "226 images found for '/content/helmet-detection/val' folder.\n",
            "Count per class: \n",
            "0 -> with helmet: 382\n",
            "1 -> without helmet: 265\n",
            "2 -> rider: 380\n",
            "3 -> number plate: 72\n",
            "\n",
            "674 images found for '/content/merged-datasets/train' folder.\n",
            "Count per class: \n",
            "0 -> with helmet: 934\n",
            "1 -> without helmet: 820\n",
            "2 -> rider: 1109\n",
            "3 -> number plate: 295\n",
            "\n",
            "246 images found for '/content/merged-datasets/val' folder.\n",
            "Count per class: \n",
            "0 -> with helmet: 395\n",
            "1 -> without helmet: 280\n",
            "2 -> rider: 403\n",
            "3 -> number plate: 94\n",
            "\n"
          ]
        }
      ]
    },
    {
      "cell_type": "markdown",
      "source": [
        "#### Printa imagens\n",
        "\n",
        "Adquire as coordenadas das *bouding boxes* das imagens etiquetadas para mostrar na tela, juntamente com as imagens resultado do Yolo."
      ],
      "metadata": {
        "id": "Eh2mYkCMOfw0"
      }
    },
    {
      "cell_type": "code",
      "source": [
        "# Convert bbox data into actual coordinates for the selected image\n",
        "def get_bbox_coordinates(image, bbox):\n",
        "  image_height, image_width, _ = image.shape\n",
        "  x_center, y_center, width, height = bbox\n",
        "\n",
        "  # Calculate the coordinates of the bounding box for YOLO standards\n",
        "  x_center_pixel = x_center * image_width\n",
        "  y_center_pixel = y_center * image_height\n",
        "  half_width = width * image_width / 2\n",
        "  half_height = height * image_height / 2\n",
        "\n",
        "  # Calculate the box max and min points\n",
        "  x_min = int(x_center_pixel - half_width)\n",
        "  y_min = int(y_center_pixel - half_height)\n",
        "  x_max = int(x_center_pixel + half_width)\n",
        "  y_max = int(y_center_pixel + half_height)\n",
        "\n",
        "  return x_min, y_min, x_max, y_max\n",
        "\n",
        "# Get label and bbox data for the specified image\n",
        "def get_label_and_bbox(image_file, label_path=None):\n",
        "    # Find the corresponding label file\n",
        "    file_name = os.path.splitext(os.path.basename(image_file))[0]\n",
        "    if label_path is None:\n",
        "      label_path = f\"{os.path.abspath(os.path.join(image_file, os.pardir, os.pardir))}/labels/{file_name}.txt\"\n",
        "\n",
        "    with open(label_path, 'r') as file:\n",
        "        lines = file.readlines()\n",
        "\n",
        "    labels = [ ]\n",
        "    bboxes = [ ]\n",
        "    for line in lines:\n",
        "      line = line.split()\n",
        "\n",
        "      labels.append(int(line[0]))\n",
        "      bboxes.append(list(map(float, line[1:])))\n",
        "\n",
        "    return labels, bboxes"
      ],
      "metadata": {
        "id": "uT6-GZnf6BSR"
      },
      "execution_count": null,
      "outputs": []
    },
    {
      "cell_type": "code",
      "source": [
        "bbox_color = {\n",
        "    0: (255, 105, 180),\n",
        "    1: (0, 153, 51),\n",
        "    2: (153, 51, 255),\n",
        "    3: (255, 153, 0)\n",
        "}\n",
        "\n",
        "# Draw the bounding boxes on the specified image and print on the screen\n",
        "def draw_bbox_on_image(image_file):\n",
        "  # Load the image\n",
        "  image = cv2.cvtColor(cv2.imread(image_file), cv2.COLOR_BGR2RGB)\n",
        "  labels, bboxes = get_label_and_bbox(image_file)\n",
        "\n",
        "  for label, bbox in zip(labels, bboxes):\n",
        "    xmin, ymin, xmax, ymax = get_bbox_coordinates(image, bbox)\n",
        "    color = bbox_color[label]\n",
        "\n",
        "    # Add rectangle and its label to the image\n",
        "    cv2.rectangle(image, (xmin, ymin), (xmax, ymax), color, 2)\n",
        "    cv2.putText(image, class_map[label], (xmin, ymin - 7), cv2.FONT_HERSHEY_SIMPLEX, 0.5, color, 1)\n",
        "\n",
        "    # Display the image with bounding boxes\n",
        "    plt.axis(False)\n",
        "    plt.title(os.path.split(image_file)[-1], y=-0.1)\n",
        "    plt.imshow(image)\n",
        "\n",
        "# Select a random image from the merged-datasets train folder\n",
        "def select_random_image():\n",
        "  images_dir = f\"{merged_datasets_path}/train/images\"\n",
        "\n",
        "  # Select a random image from the train dataset\n",
        "  image_file = random.choice(os.listdir(images_dir))\n",
        "  image_file = os.path.join(images_dir, image_file)\n",
        "  return image_file\n",
        "\n",
        "# image_file = select_random_image()\n",
        "# draw_bbox_on_image(image_file)"
      ],
      "metadata": {
        "id": "XQVnbMF623Aj"
      },
      "execution_count": null,
      "outputs": []
    },
    {
      "cell_type": "code",
      "source": [
        "# Compare two images\n",
        "def compare_images(image_files, label_paths=None, titles=[]):\n",
        "  images = []\n",
        "\n",
        "  if label_paths is None:\n",
        "    label_paths = [None] * len(image_files)\n",
        "\n",
        "  for i, image_file in enumerate(image_files):\n",
        "      # Load the image\n",
        "      image = cv2.cvtColor(cv2.imread(image_file), cv2.COLOR_BGR2RGB)\n",
        "      labels, bboxes = get_label_and_bbox(image_file, label_paths[i])\n",
        "\n",
        "      for label, bbox in zip(labels, bboxes):\n",
        "          xmin, ymin, xmax, ymax = get_bbox_coordinates(image, bbox)\n",
        "          color = bbox_color[label]\n",
        "\n",
        "          # Add rectangle and its label to the image\n",
        "          cv2.rectangle(image, (xmin, ymin), (xmax, ymax), color, 2)\n",
        "          cv2.putText(image, class_map[label], (xmin, ymin - 7), cv2.FONT_HERSHEY_SIMPLEX, 0.5, color, 1)\n",
        "\n",
        "      images.append(image)\n",
        "      titles.append(os.path.split(image_file)[-1])\n",
        "\n",
        "  # Display the images with bounding boxes side by side\n",
        "  fig, axs = plt.subplots(1, len(images), figsize=(15, 15))\n",
        "  for ax, img, title in zip(axs, images, titles):\n",
        "      ax.axis('off')\n",
        "      ax.set_title(title, y=-0.1)\n",
        "      ax.imshow(img)\n",
        "\n",
        "  plt.show()\n",
        "\n",
        "# image_file, image_file_test = select_random_image(), select_random_image()\n",
        "# compare_images([image_file, image_file_test])"
      ],
      "metadata": {
        "id": "ArIi6YC9Hye_"
      },
      "execution_count": null,
      "outputs": []
    },
    {
      "cell_type": "markdown",
      "source": [
        "## Treinando o modelo YOLO"
      ],
      "metadata": {
        "id": "g3hhk6sMKy6_"
      }
    },
    {
      "cell_type": "markdown",
      "source": [
        "Esta seção do notebook é dedicada para o treinamento do modelo YOLO utilizando os datasets criados anteriormente, com auxílio da biblioteca Ultralytics.\n",
        "\n",
        "Durante o experimento, foram utilizadas as versões YOLOv5 e YOLOv10, a mais recente, lançada em maio de 2024.\n",
        "\n",
        "As diferentes rodadadas de treinamento foram acompanhadas via MLflow, hospedado no serviço Dagshub. Elas podem ser visualizadas [aqui](https://dagshub.com/laurafiorini/helmet-detection/experiments)\n",
        "\n",
        "**O modelo que obteve a melhor performance foi o YOLOv10 pré-treinado (\"yolov10n.pt\"), com 50 épocas de treinamento.**"
      ],
      "metadata": {
        "id": "ZmIW_HWv978P"
      }
    },
    {
      "cell_type": "markdown",
      "source": [
        "### (Opcional) Habilitando o registro dos treinamentos no MLflow/Dagshub"
      ],
      "metadata": {
        "id": "racHhN24HBzw"
      }
    },
    {
      "cell_type": "markdown",
      "source": [
        "Quando `logging == True`, o trecho de código abaixo é usado para inicializar o repositório e experimento no MLflow/Dagshub. Para rodá-lo, é necessário alterar os parâmetros de modo que identifique um repositório ao qual se tenha acesso.\n",
        "\n",
        "O YOLO registra \"automaticamente\" o progresso do treinamento no repositório.\n",
        "\n"
      ],
      "metadata": {
        "id": "SGzqClOp97GT"
      }
    },
    {
      "cell_type": "code",
      "source": [
        "if logging:\n",
        "  repo_owner = \"laurafiorini\"\n",
        "  repo_name = \"helmet-detection\"\n",
        "  dagshub.init(repo_name, repo_owner, mlflow=True)\n",
        "\n",
        "  mlflow.set_tracking_uri(f'https://dagshub.com/{repo_owner}/{repo_dagshub}')\n",
        "\n",
        "  experiment_name = 'helmet-detection'"
      ],
      "metadata": {
        "colab": {
          "base_uri": "https://localhost:8080/",
          "height": 65
        },
        "id": "rAPoK1xqTgbG",
        "outputId": "cb620e9f-d642-40bf-fd56-f1085f313558"
      },
      "execution_count": null,
      "outputs": [
        {
          "output_type": "display_data",
          "data": {
            "text/plain": [
              "Accessing as gustavo.witt98\n"
            ],
            "text/html": [
              "<pre style=\"white-space:pre;overflow-x:auto;line-height:normal;font-family:Menlo,'DejaVu Sans Mono',consolas,'Courier New',monospace\">Accessing as gustavo.witt98\n",
              "</pre>\n"
            ]
          },
          "metadata": {}
        },
        {
          "output_type": "display_data",
          "data": {
            "text/plain": [
              "Initialized MLflow to track repo \u001b[32m\"laurafiorini/helmet-detection\"\u001b[0m\n"
            ],
            "text/html": [
              "<pre style=\"white-space:pre;overflow-x:auto;line-height:normal;font-family:Menlo,'DejaVu Sans Mono',consolas,'Courier New',monospace\">Initialized MLflow to track repo <span style=\"color: #008000; text-decoration-color: #008000\">\"laurafiorini/helmet-detection\"</span>\n",
              "</pre>\n"
            ]
          },
          "metadata": {}
        },
        {
          "output_type": "display_data",
          "data": {
            "text/plain": [
              "Repository laurafiorini/helmet-detection initialized!\n"
            ],
            "text/html": [
              "<pre style=\"white-space:pre;overflow-x:auto;line-height:normal;font-family:Menlo,'DejaVu Sans Mono',consolas,'Courier New',monospace\">Repository laurafiorini/helmet-detection initialized!\n",
              "</pre>\n"
            ]
          },
          "metadata": {}
        }
      ]
    },
    {
      "cell_type": "markdown",
      "source": [
        "### Treinamento do modelo"
      ],
      "metadata": {
        "id": "9f7n_v0HHSnQ"
      }
    },
    {
      "cell_type": "markdown",
      "source": [
        "Os principais parâmetros do treinamento do modelo são setados."
      ],
      "metadata": {
        "id": "e8mjnDDkE1jg"
      }
    },
    {
      "cell_type": "code",
      "source": [
        "# Set experiment details\n",
        "\n",
        "# MODEL_NAME = \"yolov5n.pt\"\n",
        "# MODEL_NAME = \"yolov10n.yaml\"\n",
        "MODEL_NAME = \"yolov10n.pt\"\n",
        "\n",
        "# TRAIN_DATA_YAML = new_dataset1_yaml_path\n",
        "TRAIN_DATA_YAML = merged_yaml_path\n",
        "\n",
        "EPOCHS = 50\n",
        "\n",
        "TEST_DATA_YAML = test_merged_yaml_path\n",
        "TEST_IMAGES_DIR = merged_test_image_dir"
      ],
      "metadata": {
        "id": "sVbbfn5lQn3c"
      },
      "execution_count": null,
      "outputs": []
    },
    {
      "cell_type": "markdown",
      "source": [
        "Treinamento do modelo YOLO."
      ],
      "metadata": {
        "id": "jj5uO0qXE8Yk"
      }
    },
    {
      "cell_type": "code",
      "source": [
        "# Load a COCO-pretrained YOLOv5n model\n",
        "model = YOLO(MODEL_NAME)\n",
        "\n",
        "# Display model information (optional)\n",
        "model.info()\n",
        "\n",
        "# Train the model on the COCO8 example dataset for 100 epochs\n",
        "results = model.train(data=TRAIN_DATA_YAML, epochs=EPOCHS, imgsz=640)"
      ],
      "metadata": {
        "colab": {
          "base_uri": "https://localhost:8080/"
        },
        "id": "lmUr2awQLFyx",
        "outputId": "162b862d-866b-41a6-d024-d8441c733b80"
      },
      "execution_count": null,
      "outputs": [
        {
          "output_type": "stream",
          "name": "stdout",
          "text": [
            "Downloading https://github.com/ultralytics/assets/releases/download/v8.2.0/yolov10n.pt to 'yolov10n.pt'...\n"
          ]
        },
        {
          "output_type": "stream",
          "name": "stderr",
          "text": [
            "100%|██████████| 5.59M/5.59M [00:00<00:00, 41.7MB/s]\n"
          ]
        },
        {
          "output_type": "stream",
          "name": "stdout",
          "text": [
            "YOLOv10n summary: 385 layers, 2775520 parameters, 0 gradients, 8.7 GFLOPs\n",
            "Ultralytics YOLOv8.2.48 🚀 Python-3.10.12 torch-2.3.0+cu121 CUDA:0 (Tesla T4, 15102MiB)\n",
            "\u001b[34m\u001b[1mengine/trainer: \u001b[0mtask=detect, mode=train, model=yolov10n.pt, data=/content/merged-datasets/data.yaml, epochs=50, time=None, patience=100, batch=16, imgsz=640, save=True, save_period=-1, cache=False, device=None, workers=8, project=None, name=train, exist_ok=False, pretrained=True, optimizer=auto, verbose=True, seed=0, deterministic=True, single_cls=False, rect=False, cos_lr=False, close_mosaic=10, resume=False, amp=True, fraction=1.0, profile=False, freeze=None, multi_scale=False, overlap_mask=True, mask_ratio=4, dropout=0.0, val=True, split=val, save_json=False, save_hybrid=False, conf=None, iou=0.7, max_det=300, half=False, dnn=False, plots=True, source=None, vid_stride=1, stream_buffer=False, visualize=False, augment=False, agnostic_nms=False, classes=None, retina_masks=False, embed=None, show=False, save_frames=False, save_txt=False, save_conf=False, save_crop=False, show_labels=True, show_conf=True, show_boxes=True, line_width=None, format=torchscript, keras=False, optimize=False, int8=False, dynamic=False, simplify=False, opset=None, workspace=4, nms=False, lr0=0.01, lrf=0.01, momentum=0.937, weight_decay=0.0005, warmup_epochs=3.0, warmup_momentum=0.8, warmup_bias_lr=0.1, box=7.5, cls=0.5, dfl=1.5, pose=12.0, kobj=1.0, label_smoothing=0.0, nbs=64, hsv_h=0.015, hsv_s=0.7, hsv_v=0.4, degrees=0.0, translate=0.1, scale=0.5, shear=0.0, perspective=0.0, flipud=0.0, fliplr=0.5, bgr=0.0, mosaic=1.0, mixup=0.0, copy_paste=0.0, auto_augment=randaugment, erasing=0.4, crop_fraction=1.0, cfg=None, tracker=botsort.yaml, save_dir=runs/detect/train\n",
            "Downloading https://ultralytics.com/assets/Arial.ttf to '/root/.config/Ultralytics/Arial.ttf'...\n"
          ]
        },
        {
          "output_type": "stream",
          "name": "stderr",
          "text": [
            "100%|██████████| 755k/755k [00:00<00:00, 25.4MB/s]\n"
          ]
        },
        {
          "output_type": "stream",
          "name": "stdout",
          "text": [
            "Overriding model.yaml nc=80 with nc=4\n",
            "\n",
            "                   from  n    params  module                                       arguments                     \n",
            "  0                  -1  1       464  ultralytics.nn.modules.conv.Conv             [3, 16, 3, 2]                 \n",
            "  1                  -1  1      4672  ultralytics.nn.modules.conv.Conv             [16, 32, 3, 2]                \n",
            "  2                  -1  1      7360  ultralytics.nn.modules.block.C2f             [32, 32, 1, True]             \n",
            "  3                  -1  1     18560  ultralytics.nn.modules.conv.Conv             [32, 64, 3, 2]                \n",
            "  4                  -1  2     49664  ultralytics.nn.modules.block.C2f             [64, 64, 2, True]             \n",
            "  5                  -1  1      9856  ultralytics.nn.modules.block.SCDown          [64, 128, 3, 2]               \n",
            "  6                  -1  2    197632  ultralytics.nn.modules.block.C2f             [128, 128, 2, True]           \n",
            "  7                  -1  1     36096  ultralytics.nn.modules.block.SCDown          [128, 256, 3, 2]              \n",
            "  8                  -1  1    460288  ultralytics.nn.modules.block.C2f             [256, 256, 1, True]           \n",
            "  9                  -1  1    164608  ultralytics.nn.modules.block.SPPF            [256, 256, 5]                 \n",
            " 10                  -1  1    249728  ultralytics.nn.modules.block.PSA             [256, 256]                    \n",
            " 11                  -1  1         0  torch.nn.modules.upsampling.Upsample         [None, 2, 'nearest']          \n",
            " 12             [-1, 6]  1         0  ultralytics.nn.modules.conv.Concat           [1]                           \n",
            " 13                  -1  1    148224  ultralytics.nn.modules.block.C2f             [384, 128, 1]                 \n",
            " 14                  -1  1         0  torch.nn.modules.upsampling.Upsample         [None, 2, 'nearest']          \n",
            " 15             [-1, 4]  1         0  ultralytics.nn.modules.conv.Concat           [1]                           \n",
            " 16                  -1  1     37248  ultralytics.nn.modules.block.C2f             [192, 64, 1]                  \n",
            " 17                  -1  1     36992  ultralytics.nn.modules.conv.Conv             [64, 64, 3, 2]                \n",
            " 18            [-1, 13]  1         0  ultralytics.nn.modules.conv.Concat           [1]                           \n",
            " 19                  -1  1    123648  ultralytics.nn.modules.block.C2f             [192, 128, 1]                 \n",
            " 20                  -1  1     18048  ultralytics.nn.modules.block.SCDown          [128, 128, 3, 2]              \n",
            " 21            [-1, 10]  1         0  ultralytics.nn.modules.conv.Concat           [1]                           \n",
            " 22                  -1  1    282624  ultralytics.nn.modules.block.C2fCIB          [384, 256, 1, True, True]     \n",
            " 23        [16, 19, 22]  1    862888  ultralytics.nn.modules.head.v10Detect        [4, [64, 128, 256]]           \n",
            "YOLOv10n summary: 385 layers, 2708600 parameters, 2708584 gradients, 8.4 GFLOPs\n",
            "\n",
            "Transferred 493/595 items from pretrained weights\n",
            "\u001b[34m\u001b[1mTensorBoard: \u001b[0mStart with 'tensorboard --logdir runs/detect/train', view at http://localhost:6006/\n",
            "Freezing layer 'model.23.dfl.conv.weight'\n",
            "\u001b[34m\u001b[1mAMP: \u001b[0mrunning Automatic Mixed Precision (AMP) checks with YOLOv8n...\n",
            "Downloading https://github.com/ultralytics/assets/releases/download/v8.2.0/yolov8n.pt to 'yolov8n.pt'...\n"
          ]
        },
        {
          "output_type": "stream",
          "name": "stderr",
          "text": [
            "100%|██████████| 6.25M/6.25M [00:00<00:00, 98.4MB/s]\n",
            "/usr/local/lib/python3.10/dist-packages/torch/nn/modules/conv.py:456: UserWarning: Plan failed with a cudnnException: CUDNN_BACKEND_EXECUTION_PLAN_DESCRIPTOR: cudnnFinalize Descriptor Failed cudnn_status: CUDNN_STATUS_NOT_SUPPORTED (Triggered internally at ../aten/src/ATen/native/cudnn/Conv_v8.cpp:919.)\n",
            "  return F.conv2d(input, weight, bias, self.stride,\n"
          ]
        },
        {
          "output_type": "stream",
          "name": "stdout",
          "text": [
            "\u001b[34m\u001b[1mAMP: \u001b[0mchecks passed ✅\n"
          ]
        },
        {
          "output_type": "stream",
          "name": "stderr",
          "text": [
            "\u001b[34m\u001b[1mtrain: \u001b[0mScanning /content/merged-datasets/train/labels... 672 images, 0 backgrounds, 2 corrupt: 100%|██████████| 674/674 [00:00<00:00, 756.27it/s]"
          ]
        },
        {
          "output_type": "stream",
          "name": "stdout",
          "text": [
            "\u001b[34m\u001b[1mtrain: \u001b[0mWARNING ⚠️ /content/merged-datasets/train/images/new128.jpg: ignoring corrupt image/label: cannot identify image file '/content/merged-datasets/train/images/new128.jpg'\n",
            "\u001b[34m\u001b[1mtrain: \u001b[0mWARNING ⚠️ /content/merged-datasets/train/images/new3.jpg: ignoring corrupt image/label: invalid image format GIF. Supported formats are:\n",
            "images: {'tiff', 'webp', 'jpeg', 'bmp', 'pfm', 'mpo', 'png', 'jpg', 'dng', 'tif'}\n",
            "videos: {'ts', 'gif', 'avi', 'mp4', 'asf', 'webm', 'wmv', 'mov', 'mpg', 'mpeg', 'm4v', 'mkv'}\n"
          ]
        },
        {
          "output_type": "stream",
          "name": "stderr",
          "text": [
            "\n"
          ]
        },
        {
          "output_type": "stream",
          "name": "stdout",
          "text": [
            "\u001b[34m\u001b[1mtrain: \u001b[0mNew cache created: /content/merged-datasets/train/labels.cache\n",
            "\u001b[34m\u001b[1malbumentations: \u001b[0mBlur(p=0.01, blur_limit=(3, 7)), MedianBlur(p=0.01, blur_limit=(3, 7)), ToGray(p=0.01), CLAHE(p=0.01, clip_limit=(1, 4.0), tile_grid_size=(8, 8))\n"
          ]
        },
        {
          "output_type": "stream",
          "name": "stderr",
          "text": [
            "/usr/lib/python3.10/multiprocessing/popen_fork.py:66: RuntimeWarning: os.fork() was called. os.fork() is incompatible with multithreaded code, and JAX is multithreaded, so this will likely lead to a deadlock.\n",
            "  self.pid = os.fork()\n",
            "\u001b[34m\u001b[1mval: \u001b[0mScanning /content/merged-datasets/val/labels... 246 images, 0 backgrounds, 0 corrupt: 100%|██████████| 246/246 [00:00<00:00, 481.26it/s]"
          ]
        },
        {
          "output_type": "stream",
          "name": "stdout",
          "text": [
            "\u001b[34m\u001b[1mval: \u001b[0mNew cache created: /content/merged-datasets/val/labels.cache\n"
          ]
        },
        {
          "output_type": "stream",
          "name": "stderr",
          "text": [
            "\n"
          ]
        },
        {
          "output_type": "stream",
          "name": "stdout",
          "text": [
            "Plotting labels to runs/detect/train/labels.jpg... \n",
            "\u001b[34m\u001b[1moptimizer:\u001b[0m 'optimizer=auto' found, ignoring 'lr0=0.01' and 'momentum=0.937' and determining best 'optimizer', 'lr0' and 'momentum' automatically... \n",
            "\u001b[34m\u001b[1moptimizer:\u001b[0m AdamW(lr=0.00125, momentum=0.9) with parameter groups 95 weight(decay=0.0), 108 weight(decay=0.0005), 107 bias(decay=0.0)\n"
          ]
        },
        {
          "output_type": "stream",
          "name": "stderr",
          "text": [
            "2024/07/02 16:32:22 INFO mlflow.tracking.fluent: Autologging successfully enabled for tensorflow.\n",
            "2024/07/02 16:32:22 INFO mlflow.tracking.fluent: Autologging successfully enabled for keras.\n",
            "2024/07/02 16:32:23 INFO mlflow.tracking.fluent: Autologging successfully enabled for sklearn.\n",
            "2024/07/02 16:32:23 WARNING mlflow.utils.autologging_utils: You are using an unsupported version of transformers. If you encounter errors during autologging, try upgrading / downgrading transformers to a supported version, or try upgrading MLflow.\n",
            "2024/07/02 16:32:24 INFO mlflow.tracking.fluent: Autologging successfully enabled for transformers.\n",
            "2024/07/02 16:32:24 INFO mlflow.tracking.fluent: Autologging successfully enabled for statsmodels.\n"
          ]
        },
        {
          "output_type": "stream",
          "name": "stdout",
          "text": [
            "\u001b[34m\u001b[1mMLflow: \u001b[0mlogging run_id(3090205dbeba40f7aef86f3ed377a468) to https://dagshub.com/laurafiorini/helmet-detection.mlflow\n",
            "\u001b[34m\u001b[1mMLflow: \u001b[0mdisable with 'yolo settings mlflow=False'\n",
            "\u001b[34m\u001b[1mTensorBoard: \u001b[0mmodel graph visualization added ✅\n",
            "Image sizes 640 train, 640 val\n",
            "Using 2 dataloader workers\n",
            "Logging results to \u001b[1mruns/detect/train\u001b[0m\n",
            "Starting training for 50 epochs...\n",
            "\n",
            "      Epoch    GPU_mem   box_loss   cls_loss   dfl_loss  Instances       Size\n"
          ]
        },
        {
          "output_type": "stream",
          "name": "stderr",
          "text": [
            "       1/50       3.4G       2.47       6.42      2.407        191        640: 100%|██████████| 42/42 [00:28<00:00,  1.47it/s]\n",
            "                 Class     Images  Instances      Box(P          R      mAP50  mAP50-95): 100%|██████████| 8/8 [00:09<00:00,  1.23s/it]"
          ]
        },
        {
          "output_type": "stream",
          "name": "stdout",
          "text": [
            "                   all        246       1172     0.0146      0.351      0.144     0.0991\n"
          ]
        },
        {
          "output_type": "stream",
          "name": "stderr",
          "text": [
            "\n"
          ]
        },
        {
          "output_type": "stream",
          "name": "stdout",
          "text": [
            "\n",
            "      Epoch    GPU_mem   box_loss   cls_loss   dfl_loss  Instances       Size\n"
          ]
        },
        {
          "output_type": "stream",
          "name": "stderr",
          "text": [
            "       2/50      3.05G       2.39      4.213      2.365        131        640: 100%|██████████| 42/42 [00:22<00:00,  1.91it/s]\n",
            "                 Class     Images  Instances      Box(P          R      mAP50  mAP50-95): 100%|██████████| 8/8 [00:03<00:00,  2.65it/s]"
          ]
        },
        {
          "output_type": "stream",
          "name": "stdout",
          "text": [
            "                   all        246       1172      0.817      0.214      0.281       0.19\n"
          ]
        },
        {
          "output_type": "stream",
          "name": "stderr",
          "text": [
            "\n"
          ]
        },
        {
          "output_type": "stream",
          "name": "stdout",
          "text": [
            "\n",
            "      Epoch    GPU_mem   box_loss   cls_loss   dfl_loss  Instances       Size\n"
          ]
        },
        {
          "output_type": "stream",
          "name": "stderr",
          "text": [
            "       3/50      3.03G      2.483      3.742      2.382        154        640: 100%|██████████| 42/42 [00:21<00:00,  1.93it/s]\n",
            "                 Class     Images  Instances      Box(P          R      mAP50  mAP50-95): 100%|██████████| 8/8 [00:04<00:00,  1.68it/s]"
          ]
        },
        {
          "output_type": "stream",
          "name": "stdout",
          "text": [
            "                   all        246       1172      0.597      0.303      0.432      0.274\n"
          ]
        },
        {
          "output_type": "stream",
          "name": "stderr",
          "text": [
            "\n"
          ]
        },
        {
          "output_type": "stream",
          "name": "stdout",
          "text": [
            "\n",
            "      Epoch    GPU_mem   box_loss   cls_loss   dfl_loss  Instances       Size\n"
          ]
        },
        {
          "output_type": "stream",
          "name": "stderr",
          "text": [
            "       4/50      3.08G      2.488      3.588      2.397        135        640: 100%|██████████| 42/42 [00:22<00:00,  1.90it/s]\n",
            "                 Class     Images  Instances      Box(P          R      mAP50  mAP50-95): 100%|██████████| 8/8 [00:03<00:00,  2.65it/s]\n"
          ]
        },
        {
          "output_type": "stream",
          "name": "stdout",
          "text": [
            "                   all        246       1172      0.517      0.503      0.514      0.325\n",
            "\n",
            "      Epoch    GPU_mem   box_loss   cls_loss   dfl_loss  Instances       Size\n"
          ]
        },
        {
          "output_type": "stream",
          "name": "stderr",
          "text": [
            "       5/50      3.17G      2.443      3.279      2.356        163        640: 100%|██████████| 42/42 [00:21<00:00,  1.98it/s]\n",
            "                 Class     Images  Instances      Box(P          R      mAP50  mAP50-95): 100%|██████████| 8/8 [00:03<00:00,  2.49it/s]"
          ]
        },
        {
          "output_type": "stream",
          "name": "stdout",
          "text": [
            "                   all        246       1172      0.533      0.538      0.537      0.339\n"
          ]
        },
        {
          "output_type": "stream",
          "name": "stderr",
          "text": [
            "\n"
          ]
        },
        {
          "output_type": "stream",
          "name": "stdout",
          "text": [
            "\n",
            "      Epoch    GPU_mem   box_loss   cls_loss   dfl_loss  Instances       Size\n"
          ]
        },
        {
          "output_type": "stream",
          "name": "stderr",
          "text": [
            "       6/50      3.13G       2.44      3.137      2.384        108        640: 100%|██████████| 42/42 [00:21<00:00,  1.97it/s]\n",
            "                 Class     Images  Instances      Box(P          R      mAP50  mAP50-95): 100%|██████████| 8/8 [00:06<00:00,  1.25it/s]\n"
          ]
        },
        {
          "output_type": "stream",
          "name": "stdout",
          "text": [
            "                   all        246       1172       0.63      0.563      0.615      0.383\n",
            "\n",
            "      Epoch    GPU_mem   box_loss   cls_loss   dfl_loss  Instances       Size\n"
          ]
        },
        {
          "output_type": "stream",
          "name": "stderr",
          "text": [
            "       7/50      3.13G      2.398      2.955      2.355        110        640: 100%|██████████| 42/42 [00:20<00:00,  2.04it/s]\n",
            "                 Class     Images  Instances      Box(P          R      mAP50  mAP50-95): 100%|██████████| 8/8 [00:03<00:00,  2.54it/s]"
          ]
        },
        {
          "output_type": "stream",
          "name": "stdout",
          "text": [
            "                   all        246       1172      0.657      0.643      0.682      0.452\n"
          ]
        },
        {
          "output_type": "stream",
          "name": "stderr",
          "text": [
            "\n"
          ]
        },
        {
          "output_type": "stream",
          "name": "stdout",
          "text": [
            "\n",
            "      Epoch    GPU_mem   box_loss   cls_loss   dfl_loss  Instances       Size\n"
          ]
        },
        {
          "output_type": "stream",
          "name": "stderr",
          "text": [
            "       8/50      3.22G      2.418      2.703      2.351        130        640: 100%|██████████| 42/42 [00:21<00:00,  1.94it/s]\n",
            "                 Class     Images  Instances      Box(P          R      mAP50  mAP50-95): 100%|██████████| 8/8 [00:03<00:00,  2.26it/s]"
          ]
        },
        {
          "output_type": "stream",
          "name": "stdout",
          "text": [
            "                   all        246       1172      0.609      0.631      0.645      0.425\n"
          ]
        },
        {
          "output_type": "stream",
          "name": "stderr",
          "text": [
            "\n"
          ]
        },
        {
          "output_type": "stream",
          "name": "stdout",
          "text": [
            "\n",
            "      Epoch    GPU_mem   box_loss   cls_loss   dfl_loss  Instances       Size\n"
          ]
        },
        {
          "output_type": "stream",
          "name": "stderr",
          "text": [
            "       9/50      3.05G      2.314      2.597      2.309        106        640: 100%|██████████| 42/42 [00:21<00:00,  1.97it/s]\n",
            "                 Class     Images  Instances      Box(P          R      mAP50  mAP50-95): 100%|██████████| 8/8 [00:05<00:00,  1.53it/s]"
          ]
        },
        {
          "output_type": "stream",
          "name": "stdout",
          "text": [
            "                   all        246       1172      0.625      0.719      0.701       0.47\n"
          ]
        },
        {
          "output_type": "stream",
          "name": "stderr",
          "text": [
            "\n"
          ]
        },
        {
          "output_type": "stream",
          "name": "stdout",
          "text": [
            "\n",
            "      Epoch    GPU_mem   box_loss   cls_loss   dfl_loss  Instances       Size\n"
          ]
        },
        {
          "output_type": "stream",
          "name": "stderr",
          "text": [
            "      10/50      3.11G      2.298      2.519      2.308        170        640: 100%|██████████| 42/42 [00:21<00:00,  1.95it/s]\n",
            "                 Class     Images  Instances      Box(P          R      mAP50  mAP50-95): 100%|██████████| 8/8 [00:02<00:00,  2.68it/s]"
          ]
        },
        {
          "output_type": "stream",
          "name": "stdout",
          "text": [
            "                   all        246       1172      0.659      0.676      0.711      0.486\n"
          ]
        },
        {
          "output_type": "stream",
          "name": "stderr",
          "text": [
            "\n"
          ]
        },
        {
          "output_type": "stream",
          "name": "stdout",
          "text": [
            "\n",
            "      Epoch    GPU_mem   box_loss   cls_loss   dfl_loss  Instances       Size\n"
          ]
        },
        {
          "output_type": "stream",
          "name": "stderr",
          "text": [
            "      11/50      3.11G      2.251      2.355      2.275        119        640: 100%|██████████| 42/42 [00:21<00:00,  1.97it/s]\n",
            "                 Class     Images  Instances      Box(P          R      mAP50  mAP50-95): 100%|██████████| 8/8 [00:05<00:00,  1.49it/s]"
          ]
        },
        {
          "output_type": "stream",
          "name": "stdout",
          "text": [
            "                   all        246       1172      0.678      0.682      0.721      0.498\n"
          ]
        },
        {
          "output_type": "stream",
          "name": "stderr",
          "text": [
            "\n"
          ]
        },
        {
          "output_type": "stream",
          "name": "stdout",
          "text": [
            "\n",
            "      Epoch    GPU_mem   box_loss   cls_loss   dfl_loss  Instances       Size\n"
          ]
        },
        {
          "output_type": "stream",
          "name": "stderr",
          "text": [
            "      12/50       3.1G      2.213      2.265      2.273        107        640: 100%|██████████| 42/42 [00:21<00:00,  1.93it/s]\n",
            "                 Class     Images  Instances      Box(P          R      mAP50  mAP50-95): 100%|██████████| 8/8 [00:03<00:00,  2.53it/s]"
          ]
        },
        {
          "output_type": "stream",
          "name": "stdout",
          "text": [
            "                   all        246       1172      0.701      0.744      0.773      0.525\n"
          ]
        },
        {
          "output_type": "stream",
          "name": "stderr",
          "text": [
            "\n"
          ]
        },
        {
          "output_type": "stream",
          "name": "stdout",
          "text": [
            "\n",
            "      Epoch    GPU_mem   box_loss   cls_loss   dfl_loss  Instances       Size\n"
          ]
        },
        {
          "output_type": "stream",
          "name": "stderr",
          "text": [
            "      13/50      3.01G      2.279      2.201      2.257        162        640: 100%|██████████| 42/42 [00:21<00:00,  1.99it/s]\n",
            "                 Class     Images  Instances      Box(P          R      mAP50  mAP50-95): 100%|██████████| 8/8 [00:03<00:00,  2.37it/s]"
          ]
        },
        {
          "output_type": "stream",
          "name": "stdout",
          "text": [
            "                   all        246       1172      0.717      0.726      0.776      0.537\n"
          ]
        },
        {
          "output_type": "stream",
          "name": "stderr",
          "text": [
            "\n"
          ]
        },
        {
          "output_type": "stream",
          "name": "stdout",
          "text": [
            "\n",
            "      Epoch    GPU_mem   box_loss   cls_loss   dfl_loss  Instances       Size\n"
          ]
        },
        {
          "output_type": "stream",
          "name": "stderr",
          "text": [
            "      14/50      3.05G      2.237      2.118      2.244         84        640: 100%|██████████| 42/42 [00:23<00:00,  1.79it/s]\n",
            "                 Class     Images  Instances      Box(P          R      mAP50  mAP50-95): 100%|██████████| 8/8 [00:06<00:00,  1.32it/s]"
          ]
        },
        {
          "output_type": "stream",
          "name": "stdout",
          "text": [
            "                   all        246       1172      0.703      0.706       0.77      0.545\n"
          ]
        },
        {
          "output_type": "stream",
          "name": "stderr",
          "text": [
            "\n"
          ]
        },
        {
          "output_type": "stream",
          "name": "stdout",
          "text": [
            "\n",
            "      Epoch    GPU_mem   box_loss   cls_loss   dfl_loss  Instances       Size\n"
          ]
        },
        {
          "output_type": "stream",
          "name": "stderr",
          "text": [
            "      15/50      3.23G      2.156      2.061      2.219        195        640: 100%|██████████| 42/42 [00:21<00:00,  1.97it/s]\n",
            "                 Class     Images  Instances      Box(P          R      mAP50  mAP50-95): 100%|██████████| 8/8 [00:03<00:00,  2.65it/s]"
          ]
        },
        {
          "output_type": "stream",
          "name": "stdout",
          "text": [
            "                   all        246       1172      0.715      0.711      0.763      0.541\n"
          ]
        },
        {
          "output_type": "stream",
          "name": "stderr",
          "text": [
            "\n"
          ]
        },
        {
          "output_type": "stream",
          "name": "stdout",
          "text": [
            "\n",
            "      Epoch    GPU_mem   box_loss   cls_loss   dfl_loss  Instances       Size\n"
          ]
        },
        {
          "output_type": "stream",
          "name": "stderr",
          "text": [
            "      16/50      3.23G      2.172      1.997      2.244        203        640: 100%|██████████| 42/42 [00:20<00:00,  2.01it/s]\n",
            "                 Class     Images  Instances      Box(P          R      mAP50  mAP50-95): 100%|██████████| 8/8 [00:03<00:00,  2.54it/s]"
          ]
        },
        {
          "output_type": "stream",
          "name": "stdout",
          "text": [
            "                   all        246       1172      0.728      0.756      0.795      0.566\n"
          ]
        },
        {
          "output_type": "stream",
          "name": "stderr",
          "text": [
            "\n"
          ]
        },
        {
          "output_type": "stream",
          "name": "stdout",
          "text": [
            "\n",
            "      Epoch    GPU_mem   box_loss   cls_loss   dfl_loss  Instances       Size\n"
          ]
        },
        {
          "output_type": "stream",
          "name": "stderr",
          "text": [
            "      17/50      3.07G      2.166      1.999      2.228        114        640: 100%|██████████| 42/42 [00:21<00:00,  1.95it/s]\n",
            "                 Class     Images  Instances      Box(P          R      mAP50  mAP50-95): 100%|██████████| 8/8 [00:06<00:00,  1.26it/s]"
          ]
        },
        {
          "output_type": "stream",
          "name": "stdout",
          "text": [
            "                   all        246       1172      0.757      0.729      0.799      0.567\n"
          ]
        },
        {
          "output_type": "stream",
          "name": "stderr",
          "text": [
            "\n"
          ]
        },
        {
          "output_type": "stream",
          "name": "stdout",
          "text": [
            "\n",
            "      Epoch    GPU_mem   box_loss   cls_loss   dfl_loss  Instances       Size\n"
          ]
        },
        {
          "output_type": "stream",
          "name": "stderr",
          "text": [
            "      18/50       3.1G      2.114       1.95      2.211        200        640: 100%|██████████| 42/42 [00:21<00:00,  1.93it/s]\n",
            "                 Class     Images  Instances      Box(P          R      mAP50  mAP50-95): 100%|██████████| 8/8 [00:02<00:00,  2.74it/s]"
          ]
        },
        {
          "output_type": "stream",
          "name": "stdout",
          "text": [
            "                   all        246       1172      0.759      0.756      0.805      0.579\n"
          ]
        },
        {
          "output_type": "stream",
          "name": "stderr",
          "text": [
            "\n"
          ]
        },
        {
          "output_type": "stream",
          "name": "stdout",
          "text": [
            "\n",
            "      Epoch    GPU_mem   box_loss   cls_loss   dfl_loss  Instances       Size\n"
          ]
        },
        {
          "output_type": "stream",
          "name": "stderr",
          "text": [
            "      19/50      3.24G      2.122      1.892      2.197        130        640: 100%|██████████| 42/42 [00:21<00:00,  1.94it/s]\n",
            "                 Class     Images  Instances      Box(P          R      mAP50  mAP50-95): 100%|██████████| 8/8 [00:03<00:00,  2.21it/s]"
          ]
        },
        {
          "output_type": "stream",
          "name": "stdout",
          "text": [
            "                   all        246       1172      0.789      0.761      0.829      0.587\n"
          ]
        },
        {
          "output_type": "stream",
          "name": "stderr",
          "text": [
            "\n"
          ]
        },
        {
          "output_type": "stream",
          "name": "stdout",
          "text": [
            "\n",
            "      Epoch    GPU_mem   box_loss   cls_loss   dfl_loss  Instances       Size\n"
          ]
        },
        {
          "output_type": "stream",
          "name": "stderr",
          "text": [
            "      20/50      3.08G      2.068      1.794      2.184        157        640: 100%|██████████| 42/42 [00:21<00:00,  1.91it/s]\n",
            "                 Class     Images  Instances      Box(P          R      mAP50  mAP50-95): 100%|██████████| 8/8 [00:05<00:00,  1.53it/s]"
          ]
        },
        {
          "output_type": "stream",
          "name": "stdout",
          "text": [
            "                   all        246       1172      0.771      0.737      0.831      0.577\n"
          ]
        },
        {
          "output_type": "stream",
          "name": "stderr",
          "text": [
            "\n"
          ]
        },
        {
          "output_type": "stream",
          "name": "stdout",
          "text": [
            "\n",
            "      Epoch    GPU_mem   box_loss   cls_loss   dfl_loss  Instances       Size\n"
          ]
        },
        {
          "output_type": "stream",
          "name": "stderr",
          "text": [
            "      21/50      3.05G      2.076      1.792      2.186         92        640: 100%|██████████| 42/42 [00:20<00:00,  2.01it/s]\n",
            "                 Class     Images  Instances      Box(P          R      mAP50  mAP50-95): 100%|██████████| 8/8 [00:02<00:00,  2.81it/s]"
          ]
        },
        {
          "output_type": "stream",
          "name": "stdout",
          "text": [
            "                   all        246       1172       0.77      0.736      0.832      0.608\n"
          ]
        },
        {
          "output_type": "stream",
          "name": "stderr",
          "text": [
            "\n"
          ]
        },
        {
          "output_type": "stream",
          "name": "stdout",
          "text": [
            "\n",
            "      Epoch    GPU_mem   box_loss   cls_loss   dfl_loss  Instances       Size\n"
          ]
        },
        {
          "output_type": "stream",
          "name": "stderr",
          "text": [
            "      22/50      3.13G       2.09      1.773      2.207        119        640: 100%|██████████| 42/42 [00:21<00:00,  1.97it/s]\n",
            "                 Class     Images  Instances      Box(P          R      mAP50  mAP50-95): 100%|██████████| 8/8 [00:04<00:00,  1.65it/s]"
          ]
        },
        {
          "output_type": "stream",
          "name": "stdout",
          "text": [
            "                   all        246       1172      0.749       0.78      0.833      0.599\n"
          ]
        },
        {
          "output_type": "stream",
          "name": "stderr",
          "text": [
            "\n"
          ]
        },
        {
          "output_type": "stream",
          "name": "stdout",
          "text": [
            "\n",
            "      Epoch    GPU_mem   box_loss   cls_loss   dfl_loss  Instances       Size\n"
          ]
        },
        {
          "output_type": "stream",
          "name": "stderr",
          "text": [
            "      23/50      3.07G      2.018      1.664      2.161        123        640: 100%|██████████| 42/42 [00:21<00:00,  1.97it/s]\n",
            "                 Class     Images  Instances      Box(P          R      mAP50  mAP50-95): 100%|██████████| 8/8 [00:02<00:00,  2.79it/s]"
          ]
        },
        {
          "output_type": "stream",
          "name": "stdout",
          "text": [
            "                   all        246       1172      0.784      0.775      0.845      0.612\n"
          ]
        },
        {
          "output_type": "stream",
          "name": "stderr",
          "text": [
            "\n"
          ]
        },
        {
          "output_type": "stream",
          "name": "stdout",
          "text": [
            "\n",
            "      Epoch    GPU_mem   box_loss   cls_loss   dfl_loss  Instances       Size\n"
          ]
        },
        {
          "output_type": "stream",
          "name": "stderr",
          "text": [
            "      24/50      3.14G      2.017      1.691      2.158        115        640: 100%|██████████| 42/42 [00:21<00:00,  1.98it/s]\n",
            "                 Class     Images  Instances      Box(P          R      mAP50  mAP50-95): 100%|██████████| 8/8 [00:04<00:00,  1.94it/s]"
          ]
        },
        {
          "output_type": "stream",
          "name": "stdout",
          "text": [
            "                   all        246       1172      0.823      0.776       0.86      0.625\n"
          ]
        },
        {
          "output_type": "stream",
          "name": "stderr",
          "text": [
            "\n"
          ]
        },
        {
          "output_type": "stream",
          "name": "stdout",
          "text": [
            "\n",
            "      Epoch    GPU_mem   box_loss   cls_loss   dfl_loss  Instances       Size\n"
          ]
        },
        {
          "output_type": "stream",
          "name": "stderr",
          "text": [
            "      25/50      3.13G      1.959      1.623      2.133        133        640: 100%|██████████| 42/42 [00:22<00:00,  1.89it/s]\n",
            "                 Class     Images  Instances      Box(P          R      mAP50  mAP50-95): 100%|██████████| 8/8 [00:04<00:00,  1.79it/s]"
          ]
        },
        {
          "output_type": "stream",
          "name": "stdout",
          "text": [
            "                   all        246       1172      0.817      0.786       0.86      0.633\n"
          ]
        },
        {
          "output_type": "stream",
          "name": "stderr",
          "text": [
            "\n"
          ]
        },
        {
          "output_type": "stream",
          "name": "stdout",
          "text": [
            "\n",
            "      Epoch    GPU_mem   box_loss   cls_loss   dfl_loss  Instances       Size\n"
          ]
        },
        {
          "output_type": "stream",
          "name": "stderr",
          "text": [
            "      26/50      3.12G      2.004      1.647       2.15        137        640: 100%|██████████| 42/42 [00:20<00:00,  2.08it/s]\n",
            "                 Class     Images  Instances      Box(P          R      mAP50  mAP50-95): 100%|██████████| 8/8 [00:03<00:00,  2.37it/s]"
          ]
        },
        {
          "output_type": "stream",
          "name": "stdout",
          "text": [
            "                   all        246       1172      0.834      0.758       0.86      0.633\n"
          ]
        },
        {
          "output_type": "stream",
          "name": "stderr",
          "text": [
            "\n"
          ]
        },
        {
          "output_type": "stream",
          "name": "stdout",
          "text": [
            "\n",
            "      Epoch    GPU_mem   box_loss   cls_loss   dfl_loss  Instances       Size\n"
          ]
        },
        {
          "output_type": "stream",
          "name": "stderr",
          "text": [
            "      27/50      3.27G      1.979      1.598      2.108        149        640: 100%|██████████| 42/42 [00:21<00:00,  1.93it/s]\n",
            "                 Class     Images  Instances      Box(P          R      mAP50  mAP50-95): 100%|██████████| 8/8 [00:06<00:00,  1.25it/s]"
          ]
        },
        {
          "output_type": "stream",
          "name": "stdout",
          "text": [
            "                   all        246       1172      0.829      0.772       0.86      0.617\n"
          ]
        },
        {
          "output_type": "stream",
          "name": "stderr",
          "text": [
            "\n"
          ]
        },
        {
          "output_type": "stream",
          "name": "stdout",
          "text": [
            "\n",
            "      Epoch    GPU_mem   box_loss   cls_loss   dfl_loss  Instances       Size\n"
          ]
        },
        {
          "output_type": "stream",
          "name": "stderr",
          "text": [
            "      28/50      3.13G      1.926      1.576      2.105        113        640: 100%|██████████| 42/42 [00:23<00:00,  1.80it/s]\n",
            "                 Class     Images  Instances      Box(P          R      mAP50  mAP50-95): 100%|██████████| 8/8 [00:02<00:00,  2.67it/s]"
          ]
        },
        {
          "output_type": "stream",
          "name": "stdout",
          "text": [
            "                   all        246       1172      0.843      0.789      0.887      0.656\n"
          ]
        },
        {
          "output_type": "stream",
          "name": "stderr",
          "text": [
            "\n"
          ]
        },
        {
          "output_type": "stream",
          "name": "stdout",
          "text": [
            "\n",
            "      Epoch    GPU_mem   box_loss   cls_loss   dfl_loss  Instances       Size\n"
          ]
        },
        {
          "output_type": "stream",
          "name": "stderr",
          "text": [
            "      29/50      3.16G       1.96      1.563      2.113        155        640: 100%|██████████| 42/42 [00:21<00:00,  1.99it/s]\n",
            "                 Class     Images  Instances      Box(P          R      mAP50  mAP50-95): 100%|██████████| 8/8 [00:03<00:00,  2.53it/s]"
          ]
        },
        {
          "output_type": "stream",
          "name": "stdout",
          "text": [
            "                   all        246       1172       0.83      0.801      0.888      0.665\n"
          ]
        },
        {
          "output_type": "stream",
          "name": "stderr",
          "text": [
            "\n"
          ]
        },
        {
          "output_type": "stream",
          "name": "stdout",
          "text": [
            "\n",
            "      Epoch    GPU_mem   box_loss   cls_loss   dfl_loss  Instances       Size\n"
          ]
        },
        {
          "output_type": "stream",
          "name": "stderr",
          "text": [
            "      30/50       3.1G      1.907      1.526      2.087        152        640: 100%|██████████| 42/42 [00:21<00:00,  1.97it/s]\n",
            "                 Class     Images  Instances      Box(P          R      mAP50  mAP50-95): 100%|██████████| 8/8 [00:06<00:00,  1.27it/s]"
          ]
        },
        {
          "output_type": "stream",
          "name": "stdout",
          "text": [
            "                   all        246       1172      0.848      0.806      0.892      0.679\n"
          ]
        },
        {
          "output_type": "stream",
          "name": "stderr",
          "text": [
            "\n"
          ]
        },
        {
          "output_type": "stream",
          "name": "stdout",
          "text": [
            "\n",
            "      Epoch    GPU_mem   box_loss   cls_loss   dfl_loss  Instances       Size\n"
          ]
        },
        {
          "output_type": "stream",
          "name": "stderr",
          "text": [
            "      31/50      3.12G      1.857      1.457      2.069        173        640: 100%|██████████| 42/42 [00:20<00:00,  2.05it/s]\n",
            "                 Class     Images  Instances      Box(P          R      mAP50  mAP50-95): 100%|██████████| 8/8 [00:03<00:00,  2.52it/s]"
          ]
        },
        {
          "output_type": "stream",
          "name": "stdout",
          "text": [
            "                   all        246       1172      0.842      0.805      0.888      0.674\n"
          ]
        },
        {
          "output_type": "stream",
          "name": "stderr",
          "text": [
            "\n"
          ]
        },
        {
          "output_type": "stream",
          "name": "stdout",
          "text": [
            "\n",
            "      Epoch    GPU_mem   box_loss   cls_loss   dfl_loss  Instances       Size\n"
          ]
        },
        {
          "output_type": "stream",
          "name": "stderr",
          "text": [
            "      32/50      3.07G      1.894      1.487      2.088        147        640: 100%|██████████| 42/42 [00:20<00:00,  2.01it/s]\n",
            "                 Class     Images  Instances      Box(P          R      mAP50  mAP50-95): 100%|██████████| 8/8 [00:04<00:00,  1.96it/s]"
          ]
        },
        {
          "output_type": "stream",
          "name": "stdout",
          "text": [
            "                   all        246       1172      0.845      0.788      0.888       0.67\n"
          ]
        },
        {
          "output_type": "stream",
          "name": "stderr",
          "text": [
            "\n"
          ]
        },
        {
          "output_type": "stream",
          "name": "stdout",
          "text": [
            "\n",
            "      Epoch    GPU_mem   box_loss   cls_loss   dfl_loss  Instances       Size\n"
          ]
        },
        {
          "output_type": "stream",
          "name": "stderr",
          "text": [
            "      33/50      3.16G      1.846      1.427      2.074         98        640: 100%|██████████| 42/42 [00:21<00:00,  1.97it/s]\n",
            "                 Class     Images  Instances      Box(P          R      mAP50  mAP50-95): 100%|██████████| 8/8 [00:05<00:00,  1.36it/s]"
          ]
        },
        {
          "output_type": "stream",
          "name": "stdout",
          "text": [
            "                   all        246       1172      0.835       0.85      0.902      0.681\n"
          ]
        },
        {
          "output_type": "stream",
          "name": "stderr",
          "text": [
            "\n"
          ]
        },
        {
          "output_type": "stream",
          "name": "stdout",
          "text": [
            "\n",
            "      Epoch    GPU_mem   box_loss   cls_loss   dfl_loss  Instances       Size\n"
          ]
        },
        {
          "output_type": "stream",
          "name": "stderr",
          "text": [
            "      34/50      3.16G      1.833      1.421      2.068        102        640: 100%|██████████| 42/42 [00:21<00:00,  1.98it/s]\n",
            "                 Class     Images  Instances      Box(P          R      mAP50  mAP50-95): 100%|██████████| 8/8 [00:02<00:00,  2.75it/s]"
          ]
        },
        {
          "output_type": "stream",
          "name": "stdout",
          "text": [
            "                   all        246       1172      0.826       0.84      0.904      0.687\n"
          ]
        },
        {
          "output_type": "stream",
          "name": "stderr",
          "text": [
            "\n"
          ]
        },
        {
          "output_type": "stream",
          "name": "stdout",
          "text": [
            "\n",
            "      Epoch    GPU_mem   box_loss   cls_loss   dfl_loss  Instances       Size\n"
          ]
        },
        {
          "output_type": "stream",
          "name": "stderr",
          "text": [
            "      35/50      3.16G      1.806      1.378      2.054        177        640: 100%|██████████| 42/42 [00:21<00:00,  1.97it/s]\n",
            "                 Class     Images  Instances      Box(P          R      mAP50  mAP50-95): 100%|██████████| 8/8 [00:04<00:00,  1.65it/s]"
          ]
        },
        {
          "output_type": "stream",
          "name": "stdout",
          "text": [
            "                   all        246       1172      0.849      0.822      0.896      0.677\n"
          ]
        },
        {
          "output_type": "stream",
          "name": "stderr",
          "text": [
            "\n"
          ]
        },
        {
          "output_type": "stream",
          "name": "stdout",
          "text": [
            "\n",
            "      Epoch    GPU_mem   box_loss   cls_loss   dfl_loss  Instances       Size\n"
          ]
        },
        {
          "output_type": "stream",
          "name": "stderr",
          "text": [
            "      36/50      3.02G      1.809      1.412      2.052        155        640: 100%|██████████| 42/42 [00:20<00:00,  2.00it/s]\n",
            "                 Class     Images  Instances      Box(P          R      mAP50  mAP50-95): 100%|██████████| 8/8 [00:06<00:00,  1.33it/s]"
          ]
        },
        {
          "output_type": "stream",
          "name": "stdout",
          "text": [
            "                   all        246       1172      0.858      0.849      0.914      0.696\n"
          ]
        },
        {
          "output_type": "stream",
          "name": "stderr",
          "text": [
            "\n"
          ]
        },
        {
          "output_type": "stream",
          "name": "stdout",
          "text": [
            "\n",
            "      Epoch    GPU_mem   box_loss   cls_loss   dfl_loss  Instances       Size\n"
          ]
        },
        {
          "output_type": "stream",
          "name": "stderr",
          "text": [
            "      37/50      3.12G        1.8      1.369      2.053        175        640: 100%|██████████| 42/42 [00:20<00:00,  2.01it/s]\n",
            "                 Class     Images  Instances      Box(P          R      mAP50  mAP50-95): 100%|██████████| 8/8 [00:03<00:00,  2.61it/s]"
          ]
        },
        {
          "output_type": "stream",
          "name": "stdout",
          "text": [
            "                   all        246       1172      0.832      0.864      0.909      0.694\n"
          ]
        },
        {
          "output_type": "stream",
          "name": "stderr",
          "text": [
            "\n"
          ]
        },
        {
          "output_type": "stream",
          "name": "stdout",
          "text": [
            "\n",
            "      Epoch    GPU_mem   box_loss   cls_loss   dfl_loss  Instances       Size\n"
          ]
        },
        {
          "output_type": "stream",
          "name": "stderr",
          "text": [
            "      38/50      3.12G      1.759      1.306      2.031        145        640: 100%|██████████| 42/42 [00:21<00:00,  1.96it/s]\n",
            "                 Class     Images  Instances      Box(P          R      mAP50  mAP50-95): 100%|██████████| 8/8 [00:03<00:00,  2.02it/s]"
          ]
        },
        {
          "output_type": "stream",
          "name": "stdout",
          "text": [
            "                   all        246       1172      0.841      0.851      0.911      0.703\n"
          ]
        },
        {
          "output_type": "stream",
          "name": "stderr",
          "text": [
            "\n"
          ]
        },
        {
          "output_type": "stream",
          "name": "stdout",
          "text": [
            "\n",
            "      Epoch    GPU_mem   box_loss   cls_loss   dfl_loss  Instances       Size\n"
          ]
        },
        {
          "output_type": "stream",
          "name": "stderr",
          "text": [
            "      39/50      3.12G      1.761      1.294      2.013        142        640: 100%|██████████| 42/42 [00:21<00:00,  1.92it/s]\n",
            "                 Class     Images  Instances      Box(P          R      mAP50  mAP50-95): 100%|██████████| 8/8 [00:05<00:00,  1.55it/s]"
          ]
        },
        {
          "output_type": "stream",
          "name": "stdout",
          "text": [
            "                   all        246       1172      0.852      0.856       0.92      0.714\n"
          ]
        },
        {
          "output_type": "stream",
          "name": "stderr",
          "text": [
            "\n"
          ]
        },
        {
          "output_type": "stream",
          "name": "stdout",
          "text": [
            "\n",
            "      Epoch    GPU_mem   box_loss   cls_loss   dfl_loss  Instances       Size\n"
          ]
        },
        {
          "output_type": "stream",
          "name": "stderr",
          "text": [
            "      40/50      3.13G      1.782      1.288      2.023        137        640: 100%|██████████| 42/42 [00:21<00:00,  1.99it/s]\n",
            "                 Class     Images  Instances      Box(P          R      mAP50  mAP50-95): 100%|██████████| 8/8 [00:03<00:00,  2.35it/s]"
          ]
        },
        {
          "output_type": "stream",
          "name": "stdout",
          "text": [
            "                   all        246       1172      0.822      0.867      0.917      0.716\n"
          ]
        },
        {
          "output_type": "stream",
          "name": "stderr",
          "text": [
            "\n"
          ]
        },
        {
          "output_type": "stream",
          "name": "stdout",
          "text": [
            "Closing dataloader mosaic\n",
            "\u001b[34m\u001b[1malbumentations: \u001b[0mBlur(p=0.01, blur_limit=(3, 7)), MedianBlur(p=0.01, blur_limit=(3, 7)), ToGray(p=0.01), CLAHE(p=0.01, clip_limit=(1, 4.0), tile_grid_size=(8, 8))\n"
          ]
        },
        {
          "output_type": "stream",
          "name": "stderr",
          "text": [
            "/usr/lib/python3.10/multiprocessing/popen_fork.py:66: RuntimeWarning: os.fork() was called. os.fork() is incompatible with multithreaded code, and JAX is multithreaded, so this will likely lead to a deadlock.\n",
            "  self.pid = os.fork()\n"
          ]
        },
        {
          "output_type": "stream",
          "name": "stdout",
          "text": [
            "\n",
            "      Epoch    GPU_mem   box_loss   cls_loss   dfl_loss  Instances       Size\n"
          ]
        },
        {
          "output_type": "stream",
          "name": "stderr",
          "text": [
            "      41/50      3.28G      1.608      1.163      1.928         71        640: 100%|██████████| 42/42 [00:25<00:00,  1.65it/s]\n",
            "                 Class     Images  Instances      Box(P          R      mAP50  mAP50-95): 100%|██████████| 8/8 [00:03<00:00,  2.63it/s]"
          ]
        },
        {
          "output_type": "stream",
          "name": "stdout",
          "text": [
            "                   all        246       1172      0.866      0.862      0.918      0.715\n"
          ]
        },
        {
          "output_type": "stream",
          "name": "stderr",
          "text": [
            "\n"
          ]
        },
        {
          "output_type": "stream",
          "name": "stdout",
          "text": [
            "\n",
            "      Epoch    GPU_mem   box_loss   cls_loss   dfl_loss  Instances       Size\n"
          ]
        },
        {
          "output_type": "stream",
          "name": "stderr",
          "text": [
            "      42/50       3.1G      1.562      1.069      1.905         82        640: 100%|██████████| 42/42 [00:20<00:00,  2.02it/s]\n",
            "                 Class     Images  Instances      Box(P          R      mAP50  mAP50-95): 100%|██████████| 8/8 [00:03<00:00,  2.64it/s]\n"
          ]
        },
        {
          "output_type": "stream",
          "name": "stdout",
          "text": [
            "                   all        246       1172      0.844      0.865      0.919      0.715\n",
            "\n",
            "      Epoch    GPU_mem   box_loss   cls_loss   dfl_loss  Instances       Size\n"
          ]
        },
        {
          "output_type": "stream",
          "name": "stderr",
          "text": [
            "      43/50      3.12G      1.555      1.059      1.915         53        640: 100%|██████████| 42/42 [00:20<00:00,  2.07it/s]\n",
            "                 Class     Images  Instances      Box(P          R      mAP50  mAP50-95): 100%|██████████| 8/8 [00:05<00:00,  1.43it/s]"
          ]
        },
        {
          "output_type": "stream",
          "name": "stdout",
          "text": [
            "                   all        246       1172      0.873      0.848      0.922      0.717\n"
          ]
        },
        {
          "output_type": "stream",
          "name": "stderr",
          "text": [
            "\n"
          ]
        },
        {
          "output_type": "stream",
          "name": "stdout",
          "text": [
            "\n",
            "      Epoch    GPU_mem   box_loss   cls_loss   dfl_loss  Instances       Size\n"
          ]
        },
        {
          "output_type": "stream",
          "name": "stderr",
          "text": [
            "      44/50      3.15G      1.562      1.042      1.924        101        640: 100%|██████████| 42/42 [00:24<00:00,  1.75it/s]\n",
            "                 Class     Images  Instances      Box(P          R      mAP50  mAP50-95): 100%|██████████| 8/8 [00:03<00:00,  2.43it/s]"
          ]
        },
        {
          "output_type": "stream",
          "name": "stdout",
          "text": [
            "                   all        246       1172      0.841      0.876       0.92      0.718\n"
          ]
        },
        {
          "output_type": "stream",
          "name": "stderr",
          "text": [
            "\n"
          ]
        },
        {
          "output_type": "stream",
          "name": "stdout",
          "text": [
            "\n",
            "      Epoch    GPU_mem   box_loss   cls_loss   dfl_loss  Instances       Size\n"
          ]
        },
        {
          "output_type": "stream",
          "name": "stderr",
          "text": [
            "      45/50      3.16G      1.512      1.013      1.904         85        640: 100%|██████████| 42/42 [00:21<00:00,  1.99it/s]\n",
            "                 Class     Images  Instances      Box(P          R      mAP50  mAP50-95): 100%|██████████| 8/8 [00:03<00:00,  2.65it/s]"
          ]
        },
        {
          "output_type": "stream",
          "name": "stdout",
          "text": [
            "                   all        246       1172       0.88      0.849      0.926      0.725\n"
          ]
        },
        {
          "output_type": "stream",
          "name": "stderr",
          "text": [
            "\n"
          ]
        },
        {
          "output_type": "stream",
          "name": "stdout",
          "text": [
            "\n",
            "      Epoch    GPU_mem   box_loss   cls_loss   dfl_loss  Instances       Size\n"
          ]
        },
        {
          "output_type": "stream",
          "name": "stderr",
          "text": [
            "      46/50      3.16G      1.503     0.9974      1.888         52        640: 100%|██████████| 42/42 [00:20<00:00,  2.02it/s]\n",
            "                 Class     Images  Instances      Box(P          R      mAP50  mAP50-95): 100%|██████████| 8/8 [00:05<00:00,  1.47it/s]"
          ]
        },
        {
          "output_type": "stream",
          "name": "stdout",
          "text": [
            "                   all        246       1172      0.879      0.869       0.93      0.732\n"
          ]
        },
        {
          "output_type": "stream",
          "name": "stderr",
          "text": [
            "\n"
          ]
        },
        {
          "output_type": "stream",
          "name": "stdout",
          "text": [
            "\n",
            "      Epoch    GPU_mem   box_loss   cls_loss   dfl_loss  Instances       Size\n"
          ]
        },
        {
          "output_type": "stream",
          "name": "stderr",
          "text": [
            "      47/50      3.15G      1.485     0.9735      1.877         82        640: 100%|██████████| 42/42 [00:20<00:00,  2.06it/s]\n",
            "                 Class     Images  Instances      Box(P          R      mAP50  mAP50-95): 100%|██████████| 8/8 [00:03<00:00,  2.29it/s]"
          ]
        },
        {
          "output_type": "stream",
          "name": "stdout",
          "text": [
            "                   all        246       1172       0.86      0.881      0.931      0.736\n"
          ]
        },
        {
          "output_type": "stream",
          "name": "stderr",
          "text": [
            "\n"
          ]
        },
        {
          "output_type": "stream",
          "name": "stdout",
          "text": [
            "\n",
            "      Epoch    GPU_mem   box_loss   cls_loss   dfl_loss  Instances       Size\n"
          ]
        },
        {
          "output_type": "stream",
          "name": "stderr",
          "text": [
            "      48/50      3.12G      1.456     0.9401      1.869         97        640: 100%|██████████| 42/42 [00:20<00:00,  2.01it/s]\n",
            "                 Class     Images  Instances      Box(P          R      mAP50  mAP50-95): 100%|██████████| 8/8 [00:02<00:00,  2.74it/s]"
          ]
        },
        {
          "output_type": "stream",
          "name": "stdout",
          "text": [
            "                   all        246       1172      0.883       0.87      0.936      0.743\n"
          ]
        },
        {
          "output_type": "stream",
          "name": "stderr",
          "text": [
            "\n"
          ]
        },
        {
          "output_type": "stream",
          "name": "stdout",
          "text": [
            "\n",
            "      Epoch    GPU_mem   box_loss   cls_loss   dfl_loss  Instances       Size\n"
          ]
        },
        {
          "output_type": "stream",
          "name": "stderr",
          "text": [
            "      49/50      3.12G      1.419     0.9288      1.862         74        640: 100%|██████████| 42/42 [00:20<00:00,  2.05it/s]\n",
            "                 Class     Images  Instances      Box(P          R      mAP50  mAP50-95): 100%|██████████| 8/8 [00:04<00:00,  1.60it/s]"
          ]
        },
        {
          "output_type": "stream",
          "name": "stdout",
          "text": [
            "                   all        246       1172      0.852      0.889      0.938       0.74\n"
          ]
        },
        {
          "output_type": "stream",
          "name": "stderr",
          "text": [
            "\n"
          ]
        },
        {
          "output_type": "stream",
          "name": "stdout",
          "text": [
            "\n",
            "      Epoch    GPU_mem   box_loss   cls_loss   dfl_loss  Instances       Size\n"
          ]
        },
        {
          "output_type": "stream",
          "name": "stderr",
          "text": [
            "      50/50      3.01G      1.427     0.9193      1.856         83        640: 100%|██████████| 42/42 [00:20<00:00,  2.08it/s]\n",
            "                 Class     Images  Instances      Box(P          R      mAP50  mAP50-95): 100%|██████████| 8/8 [00:05<00:00,  1.55it/s]"
          ]
        },
        {
          "output_type": "stream",
          "name": "stdout",
          "text": [
            "                   all        246       1172      0.904      0.848      0.938      0.746\n"
          ]
        },
        {
          "output_type": "stream",
          "name": "stderr",
          "text": [
            "\n"
          ]
        },
        {
          "output_type": "stream",
          "name": "stdout",
          "text": [
            "\n",
            "50 epochs completed in 0.410 hours.\n",
            "Optimizer stripped from runs/detect/train/weights/last.pt, 5.7MB\n",
            "Optimizer stripped from runs/detect/train/weights/best.pt, 5.7MB\n",
            "\n",
            "Validating runs/detect/train/weights/best.pt...\n",
            "Ultralytics YOLOv8.2.48 🚀 Python-3.10.12 torch-2.3.0+cu121 CUDA:0 (Tesla T4, 15102MiB)\n",
            "YOLOv10n summary (fused): 285 layers, 2695976 parameters, 0 gradients, 8.2 GFLOPs\n"
          ]
        },
        {
          "output_type": "stream",
          "name": "stderr",
          "text": [
            "                 Class     Images  Instances      Box(P          R      mAP50  mAP50-95): 100%|██████████| 8/8 [00:08<00:00,  1.03s/it]\n"
          ]
        },
        {
          "output_type": "stream",
          "name": "stdout",
          "text": [
            "                   all        246       1172      0.905      0.848      0.938      0.745\n",
            "           with helmet        188        395      0.927      0.906      0.971      0.826\n",
            "        without helmet        106        280      0.902      0.779      0.906      0.689\n",
            "                 rider        213        403      0.921      0.911      0.966       0.82\n",
            "          number plate         65         94      0.872      0.798      0.908      0.646\n",
            "Speed: 0.3ms preprocess, 4.0ms inference, 0.0ms loss, 0.6ms postprocess per image\n",
            "Results saved to \u001b[1mruns/detect/train\u001b[0m\n",
            "\u001b[34m\u001b[1mMLflow: \u001b[0mresults logged to https://dagshub.com/laurafiorini/helmet-detection.mlflow\n",
            "\u001b[34m\u001b[1mMLflow: \u001b[0mdisable with 'yolo settings mlflow=False'\n"
          ]
        }
      ]
    },
    {
      "cell_type": "markdown",
      "source": [
        "Uso do modo `val` do modelo do YOLO com os dados de teste, para avaliar a performance do modelo sobre esta base, e geração das predições."
      ],
      "metadata": {
        "id": "Ge1YgcRfE_FS"
      }
    },
    {
      "cell_type": "markdown",
      "source": [
        "### Inferências e resultados"
      ],
      "metadata": {
        "id": "grf-3F6XHWVg"
      }
    },
    {
      "cell_type": "code",
      "source": [
        "# use val mode to evaluate the model's performance on the test set\n",
        "test = model.val(data=TEST_DATA_YAML)\n",
        "\n",
        "results_dict = test.results_dict\n",
        "\n",
        "# make the predictions and save result\n",
        "predictions = model.predict(TEST_IMAGES_DIR, save=True, save_txt=True, show_labels=False)\n",
        "\n",
        "results_dir = predictions[0].save_dir"
      ],
      "metadata": {
        "colab": {
          "base_uri": "https://localhost:8080/"
        },
        "id": "aLL_yNjMT1Nq",
        "outputId": "9bf6390a-5d57-4770-97fe-dfe1db6fb12f"
      },
      "execution_count": null,
      "outputs": [
        {
          "output_type": "stream",
          "name": "stdout",
          "text": [
            "Ultralytics YOLOv8.2.48 🚀 Python-3.10.12 torch-2.3.0+cu121 CUDA:0 (Tesla T4, 15102MiB)\n",
            "YOLOv10n summary (fused): 285 layers, 2695976 parameters, 0 gradients, 8.2 GFLOPs\n"
          ]
        },
        {
          "output_type": "stream",
          "name": "stderr",
          "text": [
            "\u001b[34m\u001b[1mval: \u001b[0mScanning /content/merged-datasets/test/labels... 120 images, 0 backgrounds, 0 corrupt: 100%|██████████| 120/120 [00:00<00:00, 206.71it/s]"
          ]
        },
        {
          "output_type": "stream",
          "name": "stdout",
          "text": [
            "\u001b[34m\u001b[1mval: \u001b[0mNew cache created: /content/merged-datasets/test/labels.cache\n"
          ]
        },
        {
          "output_type": "stream",
          "name": "stderr",
          "text": [
            "\n",
            "/usr/lib/python3.10/multiprocessing/popen_fork.py:66: RuntimeWarning: os.fork() was called. os.fork() is incompatible with multithreaded code, and JAX is multithreaded, so this will likely lead to a deadlock.\n",
            "  self.pid = os.fork()\n",
            "                 Class     Images  Instances      Box(P          R      mAP50  mAP50-95): 100%|██████████| 8/8 [00:10<00:00,  1.26s/it]\n"
          ]
        },
        {
          "output_type": "stream",
          "name": "stdout",
          "text": [
            "                   all        120        482      0.925       0.85      0.936      0.747\n",
            "           with helmet         90        157      0.918      0.931      0.969      0.858\n",
            "        without helmet         43        102      0.905      0.814      0.936        0.7\n",
            "                 rider        105        183       0.94      0.902      0.972      0.832\n",
            "          number plate         21         40      0.938      0.753      0.869      0.598\n",
            "Speed: 2.3ms preprocess, 39.2ms inference, 0.0ms loss, 0.3ms postprocess per image\n",
            "Results saved to \u001b[1mruns/detect/train2\u001b[0m\n",
            "\n",
            "image 1/120 /content/merged-datasets/test/images/BikesHelmets0.png: 448x640 4 with helmets, 3 riders, 64.6ms\n",
            "image 2/120 /content/merged-datasets/test/images/BikesHelmets105.png: 384x640 1 with helmet, 1 rider, 87.8ms\n",
            "image 3/120 /content/merged-datasets/test/images/BikesHelmets109.png: 640x448 1 without helmet, 1 rider, 1 number plate, 66.9ms\n",
            "image 4/120 /content/merged-datasets/test/images/BikesHelmets114.png: 480x640 9 with helmets, 6 riders, 71.1ms\n",
            "image 5/120 /content/merged-datasets/test/images/BikesHelmets115.png: 416x640 5 with helmets, 4 riders, 4 number plates, 65.4ms\n",
            "image 6/120 /content/merged-datasets/test/images/BikesHelmets122.png: 480x640 2 with helmets, 1 rider, 14.2ms\n",
            "image 7/120 /content/merged-datasets/test/images/BikesHelmets129.png: 448x640 1 with helmet, 2 riders, 10.7ms\n",
            "image 8/120 /content/merged-datasets/test/images/BikesHelmets130.png: 448x640 1 without helmet, 1 rider, 14.2ms\n",
            "image 9/120 /content/merged-datasets/test/images/BikesHelmets136.png: 320x640 1 with helmet, 1 rider, 64.4ms\n",
            "image 10/120 /content/merged-datasets/test/images/BikesHelmets137.png: 416x640 8 without helmets, 7 riders, 10.7ms\n",
            "image 11/120 /content/merged-datasets/test/images/BikesHelmets148.png: 640x640 2 with helmets, 2 riders, 11.4ms\n",
            "image 12/120 /content/merged-datasets/test/images/BikesHelmets156.png: 384x640 2 without helmets, 1 rider, 11.4ms\n",
            "image 13/120 /content/merged-datasets/test/images/BikesHelmets158.png: 448x640 1 with helmet, 1 rider, 1 number plate, 10.8ms\n",
            "image 14/120 /content/merged-datasets/test/images/BikesHelmets17.png: 384x640 3 with helmets, 2 riders, 13.0ms\n",
            "image 15/120 /content/merged-datasets/test/images/BikesHelmets178.png: 416x640 2 with helmets, 10.6ms\n",
            "image 16/120 /content/merged-datasets/test/images/BikesHelmets195.png: 448x640 4 with helmets, 3 riders, 10.6ms\n",
            "image 17/120 /content/merged-datasets/test/images/BikesHelmets196.png: 448x640 2 with helmets, 4 without helmets, 1 rider, 10.1ms\n",
            "image 18/120 /content/merged-datasets/test/images/BikesHelmets210.png: 448x640 2 with helmets, 1 rider, 9.9ms\n",
            "image 19/120 /content/merged-datasets/test/images/BikesHelmets216.png: 352x640 2 without helmets, 1 rider, 65.1ms\n",
            "image 20/120 /content/merged-datasets/test/images/BikesHelmets22.png: 480x640 2 with helmets, 1 rider, 10.9ms\n",
            "image 21/120 /content/merged-datasets/test/images/BikesHelmets223.png: 480x640 5 without helmets, 2 riders, 10.3ms\n",
            "image 22/120 /content/merged-datasets/test/images/BikesHelmets235.png: 448x640 2 with helmets, 2 riders, 10.7ms\n",
            "image 23/120 /content/merged-datasets/test/images/BikesHelmets238.png: 352x640 2 without helmets, 1 rider, 11.2ms\n",
            "image 24/120 /content/merged-datasets/test/images/BikesHelmets239.png: 448x640 2 with helmets, 1 rider, 10.8ms\n",
            "image 25/120 /content/merged-datasets/test/images/BikesHelmets245.png: 640x640 1 with helmet, 1 rider, 11.0ms\n",
            "image 26/120 /content/merged-datasets/test/images/BikesHelmets249.png: 640x448 1 with helmet, 11.9ms\n",
            "image 27/120 /content/merged-datasets/test/images/BikesHelmets253.png: 416x640 1 with helmet, 1 without helmet, 2 riders, 10.6ms\n",
            "image 28/120 /content/merged-datasets/test/images/BikesHelmets257.png: 448x640 3 with helmets, 3 riders, 11.6ms\n",
            "image 29/120 /content/merged-datasets/test/images/BikesHelmets260.png: 448x640 1 without helmet, 1 rider, 14.0ms\n",
            "image 30/120 /content/merged-datasets/test/images/BikesHelmets269.png: 448x640 1 with helmet, 1 rider, 13.8ms\n",
            "image 31/120 /content/merged-datasets/test/images/BikesHelmets27.png: 480x640 1 with helmet, 1 rider, 11.7ms\n",
            "image 32/120 /content/merged-datasets/test/images/BikesHelmets273.png: 480x640 5 with helmets, 3 riders, 5 number plates, 10.1ms\n",
            "image 33/120 /content/merged-datasets/test/images/BikesHelmets281.png: 480x640 1 with helmet, 1 without helmet, 1 rider, 9.9ms\n",
            "image 34/120 /content/merged-datasets/test/images/BikesHelmets285.png: 640x448 2 with helmets, 1 rider, 10.7ms\n",
            "image 35/120 /content/merged-datasets/test/images/BikesHelmets3.png: 352x640 2 with helmets, 3 riders, 11.3ms\n",
            "image 36/120 /content/merged-datasets/test/images/BikesHelmets303.png: 352x640 7 with helmets, 7 riders, 6 number plates, 9.9ms\n",
            "image 37/120 /content/merged-datasets/test/images/BikesHelmets31.png: 512x640 4 without helmets, 2 riders, 64.0ms\n",
            "image 38/120 /content/merged-datasets/test/images/BikesHelmets310.png: 448x640 1 with helmet, 1 rider, 10.9ms\n",
            "image 39/120 /content/merged-datasets/test/images/BikesHelmets311.png: 480x640 2 with helmets, 10.5ms\n",
            "image 40/120 /content/merged-datasets/test/images/BikesHelmets315.png: 448x640 3 without helmets, 1 rider, 10.5ms\n",
            "image 41/120 /content/merged-datasets/test/images/BikesHelmets332.png: 448x640 6 with helmets, 5 riders, 9.9ms\n",
            "image 42/120 /content/merged-datasets/test/images/BikesHelmets341.png: 640x384 1 without helmet, 1 rider, 65.9ms\n",
            "image 43/120 /content/merged-datasets/test/images/BikesHelmets343.png: 448x640 1 with helmet, 1 rider, 19.8ms\n",
            "image 44/120 /content/merged-datasets/test/images/BikesHelmets344.png: 384x640 1 with helmet, 10 without helmets, 6 riders, 29.0ms\n",
            "image 45/120 /content/merged-datasets/test/images/BikesHelmets36.png: 480x640 1 with helmet, 1 rider, 11.3ms\n",
            "image 46/120 /content/merged-datasets/test/images/BikesHelmets363.png: 448x640 1 with helmet, 1 rider, 15.8ms\n",
            "image 47/120 /content/merged-datasets/test/images/BikesHelmets365.png: 448x640 4 without helmets, 5 riders, 13.9ms\n",
            "image 48/120 /content/merged-datasets/test/images/BikesHelmets379.png: 384x640 1 without helmet, 2 riders, 11.0ms\n",
            "image 49/120 /content/merged-datasets/test/images/BikesHelmets380.png: 576x640 1 with helmet, 1 rider, 66.3ms\n",
            "image 50/120 /content/merged-datasets/test/images/BikesHelmets388.png: 512x640 1 with helmet, 1 rider, 11.5ms\n",
            "image 51/120 /content/merged-datasets/test/images/BikesHelmets39.png: 416x640 2 without helmets, 2 riders, 13.0ms\n",
            "image 52/120 /content/merged-datasets/test/images/BikesHelmets40.png: 640x384 2 with helmets, 2 riders, 11.9ms\n",
            "image 53/120 /content/merged-datasets/test/images/BikesHelmets416.png: 640x512 2 with helmets, 2 riders, 71.0ms\n",
            "image 54/120 /content/merged-datasets/test/images/BikesHelmets424.png: 448x640 2 without helmets, 1 rider, 11.4ms\n",
            "image 55/120 /content/merged-datasets/test/images/BikesHelmets426.png: 384x640 1 with helmet, 1 rider, 11.3ms\n",
            "image 56/120 /content/merged-datasets/test/images/BikesHelmets429.png: 448x640 1 without helmet, 1 rider, 10.8ms\n",
            "image 57/120 /content/merged-datasets/test/images/BikesHelmets432.png: 416x640 1 with helmet, 3 without helmets, 1 rider, 11.0ms\n",
            "image 58/120 /content/merged-datasets/test/images/BikesHelmets437.png: 384x640 4 with helmets, 3 riders, 2 number plates, 11.1ms\n",
            "image 59/120 /content/merged-datasets/test/images/BikesHelmets450.png: 416x640 2 with helmets, 3 without helmets, 4 riders, 6 number plates, 12.7ms\n",
            "image 60/120 /content/merged-datasets/test/images/BikesHelmets451.png: 448x640 1 with helmet, 1 rider, 11.1ms\n",
            "image 61/120 /content/merged-datasets/test/images/BikesHelmets452.png: 512x640 1 without helmet, 12.8ms\n",
            "image 62/120 /content/merged-datasets/test/images/BikesHelmets460.png: 224x640 4 with helmets, 3 riders, 64.8ms\n",
            "image 63/120 /content/merged-datasets/test/images/BikesHelmets461.png: 448x640 1 with helmet, 1 without helmet, 11.9ms\n",
            "image 64/120 /content/merged-datasets/test/images/BikesHelmets467.png: 480x640 1 with helmet, 1 rider, 11.5ms\n",
            "image 65/120 /content/merged-datasets/test/images/BikesHelmets476.png: 384x640 3 with helmets, 3 riders, 12.9ms\n",
            "image 66/120 /content/merged-datasets/test/images/BikesHelmets478.png: 288x640 1 with helmet, 1 rider, 75.0ms\n",
            "image 67/120 /content/merged-datasets/test/images/BikesHelmets487.png: 448x640 3 without helmets, 1 rider, 11.0ms\n",
            "image 68/120 /content/merged-datasets/test/images/BikesHelmets488.png: 512x640 2 with helmets, 11.3ms\n",
            "image 69/120 /content/merged-datasets/test/images/BikesHelmets490.png: 640x640 1 with helmet, 12.0ms\n",
            "image 70/120 /content/merged-datasets/test/images/BikesHelmets499.png: 448x640 1 with helmet, 1 without helmet, 2 riders, 11.6ms\n",
            "image 71/120 /content/merged-datasets/test/images/BikesHelmets51.png: 480x640 1 with helmet, 1 rider, 10.9ms\n",
            "image 72/120 /content/merged-datasets/test/images/BikesHelmets529.png: 480x640 2 with helmets, 2 riders, 10.1ms\n",
            "image 73/120 /content/merged-datasets/test/images/BikesHelmets53.png: 448x640 1 with helmet, 1 rider, 11.2ms\n",
            "image 74/120 /content/merged-datasets/test/images/BikesHelmets531.png: 576x640 5 without helmets, 2 riders, 11.3ms\n",
            "image 75/120 /content/merged-datasets/test/images/BikesHelmets532.png: 640x448 1 with helmet, 10.7ms\n",
            "image 76/120 /content/merged-datasets/test/images/BikesHelmets537.png: 448x640 4 with helmets, 17.7ms\n",
            "image 77/120 /content/merged-datasets/test/images/BikesHelmets547.png: 480x640 2 with helmets, 4 riders, 11.2ms\n",
            "image 78/120 /content/merged-datasets/test/images/BikesHelmets549.png: 448x640 1 with helmet, 1 rider, 11.5ms\n",
            "image 79/120 /content/merged-datasets/test/images/BikesHelmets55.png: 640x480 2 without helmets, 1 rider, 24.6ms\n",
            "image 80/120 /content/merged-datasets/test/images/BikesHelmets550.png: 416x640 3 without helmets, 2 riders, 2 number plates, 11.2ms\n",
            "image 81/120 /content/merged-datasets/test/images/BikesHelmets551.png: 448x640 1 with helmet, 1 rider, 11.1ms\n",
            "image 82/120 /content/merged-datasets/test/images/BikesHelmets565.png: 448x640 2 with helmets, 2 riders, 12.0ms\n",
            "image 83/120 /content/merged-datasets/test/images/BikesHelmets570.png: 480x640 1 with helmet, 1 rider, 1 number plate, 11.0ms\n",
            "image 84/120 /content/merged-datasets/test/images/BikesHelmets573.png: 448x640 3 with helmets, 1 without helmet, 2 riders, 11.7ms\n",
            "image 85/120 /content/merged-datasets/test/images/BikesHelmets58.png: 544x640 1 with helmet, 1 without helmet, 1 rider, 65.4ms\n",
            "image 86/120 /content/merged-datasets/test/images/BikesHelmets580.png: 448x640 3 with helmets, 1 without helmet, 2 riders, 12.0ms\n",
            "image 87/120 /content/merged-datasets/test/images/BikesHelmets595.png: 480x640 4 with helmets, 1 rider, 2 number plates, 14.8ms\n",
            "image 88/120 /content/merged-datasets/test/images/BikesHelmets598.png: 448x640 1 with helmet, 1 rider, 15.3ms\n",
            "image 89/120 /content/merged-datasets/test/images/BikesHelmets602.png: 384x640 1 with helmet, 1 rider, 12.9ms\n",
            "image 90/120 /content/merged-datasets/test/images/BikesHelmets606.png: 576x640 4 with helmets, 1 rider, 10.9ms\n",
            "image 91/120 /content/merged-datasets/test/images/BikesHelmets615.png: 448x640 1 with helmet, 1 rider, 11.8ms\n",
            "image 92/120 /content/merged-datasets/test/images/BikesHelmets616.png: 448x640 4 with helmets, 2 riders, 10.3ms\n",
            "image 93/120 /content/merged-datasets/test/images/BikesHelmets62.png: 640x512 1 without helmet, 1 rider, 1 number plate, 11.0ms\n",
            "image 94/120 /content/merged-datasets/test/images/BikesHelmets626.png: 384x640 1 with helmet, 14.0ms\n",
            "image 95/120 /content/merged-datasets/test/images/BikesHelmets634.png: 448x640 2 without helmets, 1 rider, 10.9ms\n",
            "image 96/120 /content/merged-datasets/test/images/BikesHelmets638.png: 640x512 4 without helmets, 1 rider, 11.0ms\n",
            "image 97/120 /content/merged-datasets/test/images/BikesHelmets641.png: 480x640 1 without helmet, 1 rider, 11.0ms\n",
            "image 98/120 /content/merged-datasets/test/images/BikesHelmets642.png: 448x640 2 with helmets, 2 riders, 1 number plate, 10.6ms\n",
            "image 99/120 /content/merged-datasets/test/images/BikesHelmets647.png: 448x640 1 without helmet, 1 rider, 10.3ms\n",
            "image 100/120 /content/merged-datasets/test/images/BikesHelmets656.png: 640x512 2 without helmets, 1 rider, 1 number plate, 10.6ms\n",
            "image 101/120 /content/merged-datasets/test/images/BikesHelmets665.png: 480x640 7 without helmets, 2 riders, 5 number plates, 10.7ms\n",
            "image 102/120 /content/merged-datasets/test/images/BikesHelmets668.png: 384x640 5 without helmets, 3 riders, 11.5ms\n",
            "image 103/120 /content/merged-datasets/test/images/BikesHelmets670.png: 480x640 1 with helmet, 2 without helmets, 2 riders, 10.8ms\n",
            "image 104/120 /content/merged-datasets/test/images/BikesHelmets677.png: 448x640 2 with helmets, 1 rider, 10.9ms\n",
            "image 105/120 /content/merged-datasets/test/images/BikesHelmets68.png: 448x640 1 with helmet, 2 without helmets, 1 number plate, 10.5ms\n",
            "image 106/120 /content/merged-datasets/test/images/BikesHelmets685.png: 480x640 2 with helmets, 3 riders, 1 number plate, 11.3ms\n",
            "image 107/120 /content/merged-datasets/test/images/BikesHelmets686.png: 352x640 4 with helmets, 3 riders, 12.5ms\n",
            "image 108/120 /content/merged-datasets/test/images/BikesHelmets687.png: 384x640 1 with helmet, 1 rider, 11.2ms\n",
            "image 109/120 /content/merged-datasets/test/images/BikesHelmets69.png: 448x640 4 with helmets, 1 without helmet, 1 rider, 13.0ms\n",
            "image 110/120 /content/merged-datasets/test/images/BikesHelmets712.png: 352x640 1 with helmet, 1 rider, 14.1ms\n",
            "image 111/120 /content/merged-datasets/test/images/BikesHelmets726.png: 384x640 1 with helmet, 1 rider, 16.0ms\n",
            "image 112/120 /content/merged-datasets/test/images/BikesHelmets728.png: 448x640 3 with helmets, 4 riders, 11.1ms\n",
            "image 113/120 /content/merged-datasets/test/images/BikesHelmets735.png: 448x640 1 with helmet, 1 rider, 10.3ms\n",
            "image 114/120 /content/merged-datasets/test/images/BikesHelmets741.png: 480x640 1 with helmet, 1 rider, 11.4ms\n",
            "image 115/120 /content/merged-datasets/test/images/BikesHelmets755.png: 448x640 2 with helmets, 2 riders, 11.1ms\n",
            "image 116/120 /content/merged-datasets/test/images/BikesHelmets756.png: 448x640 (no detections), 11.8ms\n",
            "image 117/120 /content/merged-datasets/test/images/BikesHelmets759.png: 448x640 1 with helmet, 3 without helmets, 4 riders, 2 number plates, 10.4ms\n",
            "image 118/120 /content/merged-datasets/test/images/BikesHelmets79.png: 448x640 3 with helmets, 3 riders, 10.9ms\n",
            "image 119/120 /content/merged-datasets/test/images/BikesHelmets92.png: 448x640 2 with helmets, 2 riders, 10.2ms\n",
            "image 120/120 /content/merged-datasets/test/images/BikesHelmets94.png: 480x640 1 with helmet, 11.6ms\n",
            "Speed: 2.2ms preprocess, 18.5ms inference, 0.5ms postprocess per image at shape (1, 3, 480, 640)\n",
            "Results saved to \u001b[1mruns/detect/train3\u001b[0m\n",
            "119 labels saved to runs/detect/train3/labels\n"
          ]
        }
      ]
    },
    {
      "cell_type": "markdown",
      "source": [
        "Visualização das labels originais em comparação com as labels geradas pelo YOLO."
      ],
      "metadata": {
        "id": "xFbgVCeDFZRl"
      }
    },
    {
      "cell_type": "code",
      "source": [
        "from os import listdir\n",
        "from os.path import isfile, join\n",
        "test_images = [f for f in listdir(TEST_IMAGES_DIR) if isfile(join(TEST_IMAGES_DIR, f))]\n",
        "\n",
        "selected_image = random.choice(test_images)\n",
        "\n",
        "yolo_label_path = os.path.join(results_dir, f\"labels/{str.replace(selected_image,'png','txt')}\")\n",
        "yolo_image = os.path.join(results_dir, selected_image)\n",
        "\n",
        "if not os.path.isfile(yolo_label_path):\n",
        "  print(yolo_label_path)\n",
        "  print(f\"YOLO failed to make predictions for image '{selected_image}'\")\n",
        "  yolo_label_path = None\n",
        "  yolo_image = os.path.join(TEST_IMAGES_DIR, selected_image)\n",
        "\n",
        "compare_images([os.path.join(TEST_IMAGES_DIR, selected_image), yolo_image], label_paths=[None, yolo_label_path], titles=['True','Predicted'])"
      ],
      "metadata": {
        "colab": {
          "base_uri": "https://localhost:8080/",
          "height": 469
        },
        "id": "Xm_CrMMkWBcK",
        "outputId": "399bece7-d213-4031-c982-9c4525802d7e"
      },
      "execution_count": null,
      "outputs": [
        {
          "output_type": "display_data",
          "data": {
            "text/plain": [
              "<Figure size 1500x1500 with 2 Axes>"
            ],
            "image/png": "[encoded data removed]"
          },
          "metadata": {}
        }
      ]
    },
    {
      "cell_type": "markdown",
      "source": [
        "Quando `logging == True`, o trecho de código abaixo é usado para registrar as métricas calculadas sobre o modelo de teste e as tags que identificam o modelo."
      ],
      "metadata": {
        "id": "gQ0ymro8FnwY"
      }
    },
    {
      "cell_type": "markdown",
      "source": [
        "### (Opcional) Registrando tags e resultados do modelo no MLflow/Dagshub"
      ],
      "metadata": {
        "id": "5Kf_7y9pHaa5"
      }
    },
    {
      "cell_type": "code",
      "source": [
        "if logging:\n",
        "  last_run = mlflow.search_runs(search_all_experiments=True).loc[0,'run_id']\n",
        "  with mlflow.start_run(run_id=last_run):\n",
        "    mlflow.set_tag('MODEL_NAME', MODEL_NAME)\n",
        "    mlflow.set_tag('TRAIN_DATA', 'MERGED DATASET' if 'merged' in TRAIN_DATA_YAML else 'DATASET 1')\n",
        "    mlflow.set_tag('EPOCHS', EPOCHS)\n",
        "\n",
        "    mlflow.log_metric('test_precision',results_dict['metrics/precision(B)'])\n",
        "    mlflow.log_metric('test_recall',results_dict['metrics/recall(B)'])\n",
        "    mlflow.log_metric('test_map50',results_dict['metrics/mAP50(B)'])\n",
        "    mlflow.log_metric('test_map50-95',results_dict['metrics/mAP50-95(B)'])\n",
        "    mlflow.log_metric('test_fitness',results_dict['fitness'])"
      ],
      "metadata": {
        "id": "v3EUcaYoa5vk"
      },
      "execution_count": null,
      "outputs": []
    }
  ]
}